{
 "cells": [
  {
   "cell_type": "markdown",
   "metadata": {},
   "source": [
    "# Step 2: Generate data samples"
   ]
  },
  {
   "cell_type": "markdown",
   "metadata": {},
   "source": [
    "In this section, we will use the [AmplitudeModel](expertsystem.amplitude.model.AmplitudeModel) that we created with the expert system in [the previous step](./1_create_model) to generate a data sample via hit & miss Monte Carlo. We do this with the [tensorwaves.data.generate](tensorwaves.data.generate) module.\n",
    "\n",
    "First, we load a [AmplitudeModel](expertsystem.amplitude.model.AmplitudeModel) that was created in the previous step:"
   ]
  },
  {
   "cell_type": "code",
   "execution_count": null,
   "metadata": {},
   "outputs": [],
   "source": [
    "from expertsystem import io\n",
    "\n",
    "model = io.load_amplitude_model(\"amplitude_model_helicity.yml\")"
   ]
  },
  {
   "cell_type": "markdown",
   "metadata": {},
   "source": [
    "## 2.1 Define kinematics of the particle reaction"
   ]
  },
  {
   "cell_type": "markdown",
   "metadata": {},
   "source": [
    "An [AmplitudeModel](expertsystem.amplitude.model.AmplitudeModel) defines the kinematics, the particles involved in the reaction, the dynamics used for the model on which to perform the eventual optimization, etc."
   ]
  },
  {
   "cell_type": "code",
   "execution_count": null,
   "metadata": {},
   "outputs": [],
   "source": [
    "from tensorwaves.physics.helicity_formalism.kinematics import HelicityKinematics\n",
    "\n",
    "kin = HelicityKinematics.from_model(model)\n",
    "print(\"Initial state mass:\", kin.reaction_kinematics_info.initial_state_masses)\n",
    "print(\"Final state masses:\", kin.reaction_kinematics_info.final_state_masses)\n",
    "print(\"Involved particles:\", model.particles.names)"
   ]
  },
  {
   "cell_type": "markdown",
   "metadata": {},
   "source": [
    "A [Kinematics](tensorwaves.interfaces.Kinematics) object defines the kinematics of the particle reaction we are studying. From the final state masses listed here, we can see we are dealing with the reaction $J/\\psi \\to \\gamma\\pi^0\\pi^0$."
   ]
  },
  {
   "cell_type": "markdown",
   "metadata": {},
   "source": [
    "## 2.2 Generate phase space sample"
   ]
  },
  {
   "cell_type": "markdown",
   "metadata": {},
   "source": [
    "[Kinematics](tensorwaves.interfaces.Kinematics) define the constraints of the phase space. As such, we have enough information to generate a **phase-space sample** for this particle reaction. We do this with the [generate_phsp](tensorwaves.data.generate.generate_phsp) function. By default, this function uses [TFPhaseSpaceGenerator](tensorwaves.data.tf_phasespace.TFPhaseSpaceGenerator) as a, well... phase-space generator (using tensorflow in the back-end) and generates random numbers with [TFUniformRealNumberGenerator](tensorwaves.data.tf_phasespace.TFUniformRealNumberGenerator). You can specify this with the arguments of [generate_phsp](tensorwaves.data.generate.generate_phsp) function."
   ]
  },
  {
   "cell_type": "code",
   "execution_count": null,
   "metadata": {},
   "outputs": [],
   "source": [
    "from tensorwaves.data.generate import generate_phsp\n",
    "\n",
    "phsp_sample = generate_phsp(300000, kin)\n",
    "phsp_sample.shape"
   ]
  },
  {
   "cell_type": "markdown",
   "metadata": {
    "raw_mimetype": "text/restructuredtext"
   },
   "source": [
    "As you can see, the phase-space sample is a three-dimensional array: **300.000 events** of **four**-momentum tuples for **three** particles."
   ]
  },
  {
   "cell_type": "markdown",
   "metadata": {},
   "source": [
    "## 2.3 Generate intensity-based sample"
   ]
  },
  {
   "cell_type": "markdown",
   "metadata": {},
   "source": [
    "'Data samples' are more complicated than phase space samples in that they represent the intensity profile resulting from a reaction. You therefore need an [IntensityTF](tensorwaves.physics.helicity_formalism.amplitude.IntensityTF) object (or, more generally, a [Function](tensorwaves.interfaces.Function) instance) and a phase space over which to generate that intensity distribution. We call such a data sample an **intensity-based sample**.\n",
    "\n",
    "An intensity-based sample is generated with the function [generate_data](tensorwaves.data.generate.generate_data). Its usage is similar to [generate_phsp](tensorwaves.data.generate.generate_phsp), but now you have to give an [IntensityTF](tensorwaves.physics.helicity_formalism.amplitude.IntensityTF) in addition to the [Kinematics](tensorwaves.interfaces.Kinematics) object. An [IntensityTF](tensorwaves.physics.helicity_formalism.amplitude.IntensityTF) object can be created with the [IntensityTF](tensorwaves.physics.helicity_formalism.amplitude.IntensityTF) class:"
   ]
  },
  {
   "cell_type": "code",
   "execution_count": null,
   "metadata": {},
   "outputs": [],
   "source": [
    "from tensorwaves.physics.helicity_formalism.amplitude import IntensityBuilder\n",
    "\n",
    "builder = IntensityBuilder(model.particles, kin, phsp_sample)\n",
    "intensity = builder.create_intensity(model)"
   ]
  },
  {
   "cell_type": "markdown",
   "metadata": {},
   "source": [
    "That's it, now we have enough info to create an intensity-based data sample. Notice how the structure is the sample as the phase-space sample we saw before:"
   ]
  },
  {
   "cell_type": "code",
   "execution_count": null,
   "metadata": {},
   "outputs": [],
   "source": [
    "from tensorwaves.data.generate import generate_data\n",
    "\n",
    "data_sample = generate_data(30000, kin, intensity)\n",
    "data_sample.shape"
   ]
  },
  {
   "cell_type": "markdown",
   "metadata": {},
   "source": [
    "## 2.4 Visualize kinematic variables"
   ]
  },
  {
   "cell_type": "markdown",
   "metadata": {},
   "source": [
    "We now have a phase space sample and an intensity-based sample. Their data structure isn't the most informative though: it's just a collection of four-momentum tuples. However, we can use the [Kinematics](tensorwaves.interfaces.Kinematics) class to convert those four-momentum tuples to a data set of kinematic variables.\n",
    "\n",
    "Now we can use the [Kinematics.convert](tensorwaves.interfaces.Kinematics.convert) method to convert the phase space and data samples of four-momentum tuples to kinematic variables."
   ]
  },
  {
   "cell_type": "code",
   "execution_count": null,
   "metadata": {},
   "outputs": [],
   "source": [
    "phsp_set = kin.convert(phsp_sample)\n",
    "data_set = kin.convert(data_sample)\n",
    "list(data_set)"
   ]
  },
  {
   "cell_type": "markdown",
   "metadata": {},
   "source": [
    "The data set is just a [dict](dict) of kinematic variables (keys are the names, values is a list of computed values for each event). The numbers you see here are final state IDs as defined in the [AmplitudeModel](expertsystem.amplitude.model.AmplitudeModel) member of the [AmplitudeModel](expertsystem.amplitude.model.AmplitudeModel):"
   ]
  },
  {
   "cell_type": "code",
   "execution_count": null,
   "metadata": {},
   "outputs": [],
   "source": [
    "for state_id, particle in model.kinematics.final_state.items():\n",
    "    print(f\"ID {state_id}:\", particle.name)"
   ]
  },
  {
   "cell_type": "markdown",
   "metadata": {},
   "source": [
    "````{admonition} Available kinematic variables\n",
    "---\n",
    "class: dropdown\n",
    "---\n",
    "By default, {mod}`tensorwaves` only generates invariant masses of the {class}`.SubSystem`s that are of relevance to the decay problem. In this case, we only have resonances $f_0 \\to \\pi^0\\pi^0$. If you are interested in more invariant mass combinations, you can do so with the method {meth}`.HelicityKinematics.register_invariant_mass`, e.g.:\n",
    "\n",
    "```{code-block} python\n",
    "kin.register_invariant_mass([2, 4])\n",
    "```\n",
    "````"
   ]
  },
  {
   "cell_type": "markdown",
   "metadata": {},
   "source": [
    "The data set is [dict](dict), which allows us to easily convert it to a [pandas.DataFrame](pandas.DataFrame) and plot its content in the form of a histogram:"
   ]
  },
  {
   "cell_type": "code",
   "execution_count": null,
   "metadata": {},
   "outputs": [],
   "source": [
    "import pandas as pd\n",
    "\n",
    "data_frame = pd.DataFrame(data_set)\n",
    "phsp_frame = pd.DataFrame(phsp_set)\n",
    "data_frame"
   ]
  },
  {
   "cell_type": "markdown",
   "metadata": {},
   "source": [
    "This also means that we can use all kinds of fancy plotting functionality of for instance [matplotlib.pyplot](matplotlib.pyplot) to see what's going on. Here's an example:"
   ]
  },
  {
   "cell_type": "code",
   "execution_count": null,
   "metadata": {},
   "outputs": [],
   "source": [
    "import numpy as np\n",
    "from matplotlib import cm\n",
    "\n",
    "intermediate_states = sorted(\n",
    "    (\n",
    "        p\n",
    "        for p in model.particles\n",
    "        if p not in model.kinematics.final_state.values()\n",
    "        and p not in model.kinematics.initial_state.values()\n",
    "    ),\n",
    "    key=lambda p: p.mass,\n",
    ")\n",
    "\n",
    "evenly_spaced_interval = np.linspace(0, 1, len(intermediate_states))\n",
    "colors = [cm.rainbow(x) for x in evenly_spaced_interval]"
   ]
  },
  {
   "cell_type": "code",
   "execution_count": null,
   "metadata": {},
   "outputs": [],
   "source": [
    "import matplotlib.pyplot as plt\n",
    "\n",
    "np.sqrt(data_frame[\"mSq_3+4\"]).hist(bins=100, alpha=0.5, density=True)\n",
    "plt.xlabel(\"$m$ [GeV]\")\n",
    "for i, p in enumerate(intermediate_states):\n",
    "    plt.axvline(x=p.mass, linestyle=\"dotted\", label=p.name, color=colors[i])\n",
    "plt.legend();"
   ]
  },
  {
   "cell_type": "markdown",
   "metadata": {},
   "source": [
    "## 2.5 Export data sets"
   ]
  },
  {
   "cell_type": "markdown",
   "metadata": {},
   "source": [
    "[tensorwaves](tensorwaves) currently has no export functionality for data samples. However, as we work with [numpy.ndarray](numpy.ndarray), it's easy to just ['pickle'](https://docs.python.org/3/library/pickle.html) these data samples with [numpy.save](numpy.save):"
   ]
  },
  {
   "cell_type": "code",
   "execution_count": null,
   "metadata": {},
   "outputs": [],
   "source": [
    "import numpy as np\n",
    "\n",
    "np.save(\"data_sample\", data_sample)\n",
    "np.save(\"phsp_sample\", phsp_sample)"
   ]
  },
  {
   "cell_type": "markdown",
   "metadata": {},
   "source": [
    "In the [next step](./3_perform_fit), we will illustrate how to 'perform a fit' with [tensorwaves](tensorwaves) by optimizing the intensity model to these data samples."
   ]
  }
 ],
 "metadata": {
  "celltoolbar": "Raw Cell Format",
  "kernelspec": {
   "display_name": "Python 3",
   "language": "python",
   "name": "python3"
  },
  "language_info": {
   "codemirror_mode": {
    "name": "ipython",
    "version": 3
   },
   "file_extension": ".py",
   "mimetype": "text/x-python",
   "name": "python",
   "nbconvert_exporter": "python",
   "pygments_lexer": "ipython3",
   "version": "3.8.5"
  }
 },
 "nbformat": 4,
 "nbformat_minor": 4
}
