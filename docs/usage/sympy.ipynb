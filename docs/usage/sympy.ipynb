{
 "cells": [
  {
   "cell_type": "markdown",
   "metadata": {},
   "source": [
    "# SymPy model"
   ]
  },
  {
   "cell_type": "code",
   "execution_count": null,
   "metadata": {
    "tags": [
     "hide-cell"
    ]
   },
   "outputs": [],
   "source": [
    "import logging\n",
    "\n",
    "import expertsystem as es\n",
    "import matplotlib.pyplot as plt\n",
    "import numpy as np\n",
    "import pandas as pd\n",
    "import sympy as sy\n",
    "from expertsystem.amplitude.dynamics import (\n",
    "    relativistic_breit_wigner,\n",
    "    relativistic_breit_wigner_with_form_factor,\n",
    ")\n",
    "from tensorwaves.data.generate import generate_data, generate_phsp\n",
    "from tensorwaves.estimator import SympyUnbinnedNLL\n",
    "from tensorwaves.optimizer.minuit import Minuit2\n",
    "from tensorwaves.physics.amplitude import Intensity, SympyModel\n",
    "from tensorwaves.physics.helicity_formalism.kinematics import (\n",
    "    HelicityKinematics,\n",
    "    ParticleReactionKinematicsInfo,\n",
    "    SubSystem,\n",
    ")\n",
    "\n",
    "logging.getLogger().setLevel(logging.INFO)"
   ]
  },
  {
   "cell_type": "code",
   "execution_count": null,
   "metadata": {},
   "outputs": [],
   "source": [
    "result = es.generate_transitions(\n",
    "    initial_state=(\"J/psi(1S)\", [-1, +1]),\n",
    "    final_state=[\"gamma\", \"pi0\", \"pi0\"],\n",
    "    allowed_intermediate_particles=[\n",
    "        \"f(0)(500)\",\n",
    "        \"f(0)(980)\",\n",
    "    ],\n",
    "    formalism_type=\"helicity\",\n",
    "    topology_building=\"isobar\",\n",
    "    allowed_interaction_types=[\"EM\", \"strong\"],\n",
    "    number_of_threads=1,\n",
    ")\n",
    "model_info = es.amplitude.generate_sympy(result)"
   ]
  },
  {
   "cell_type": "code",
   "execution_count": null,
   "metadata": {},
   "outputs": [],
   "source": [
    "dynamics_choices = {\n",
    "    \"D[f_{0}(500) \\\\to \\\\pi^{0} \\\\pi^{0}]\": relativistic_breit_wigner_with_form_factor(\n",
    "        sy.Symbol(\"m_3+4\"),\n",
    "        sy.Symbol(\"m_f_(0)(500)\"),\n",
    "        sy.Symbol(R\"\\Gamma_f_(0)(500)\"),\n",
    "        m_a=0.13497,\n",
    "        m_b=0.13497,\n",
    "        angular_momentum=0,\n",
    "        meson_radius=sy.Symbol(\"meson_radius_f_(0)(500)\"),\n",
    "    ),\n",
    "    \"D[f_{0}(980) \\\\to \\\\pi^{0} \\\\pi^{0}]\": relativistic_breit_wigner_with_form_factor(\n",
    "        sy.Symbol(\"m_3+4\"),\n",
    "        sy.Symbol(\"m_f_(0)(980)\"),\n",
    "        sy.Symbol(\"\\Gamma_f_(0)(980)\"),\n",
    "        m_a=0.13497,\n",
    "        m_b=0.13497,\n",
    "        angular_momentum=0,\n",
    "        meson_radius=sy.Symbol(\"meson_radius_f_(0)(980)\"),\n",
    "    ),\n",
    "}\n",
    "next(iter(dynamics_choices.values()))"
   ]
  },
  {
   "cell_type": "code",
   "execution_count": null,
   "metadata": {},
   "outputs": [],
   "source": [
    "model_info.expression.dynamics.update(\n",
    "    {\n",
    "        k: dynamics_choices[k.name]\n",
    "        for k in model_info.expression.dynamics\n",
    "        if k.name in dynamics_choices\n",
    "    }\n",
    ")\n",
    "model_info.expression.top"
   ]
  },
  {
   "cell_type": "code",
   "execution_count": null,
   "metadata": {},
   "outputs": [],
   "source": [
    "new_params = es.amplitude.sympy.SuggestedParameterValues()\n",
    "subs_dict = {}\n",
    "for par, val in model_info.parameters.items():\n",
    "    real = sy.Symbol(f\"real_{par.name}\", real=True)\n",
    "    imag = sy.Symbol(f\"imag_{par.name}\", real=True)\n",
    "    new_params[real] = 1.0\n",
    "    new_params[imag] = 0.0\n",
    "    subs_dict[par] = real + sy.I * imag\n",
    "\n",
    "model_info.expression.amplitudes = {\n",
    "    k: v.subs(subs_dict) for k, v in model_info.expression.amplitudes.items()\n",
    "}\n",
    "model_info.parameters = new_params"
   ]
  },
  {
   "cell_type": "code",
   "execution_count": null,
   "metadata": {},
   "outputs": [],
   "source": [
    "model_info.parameters[\"m_f_(0)(500)\"] = 0.5\n",
    "model_info.parameters[R\"\\Gamma_f_(0)(500)\"] = 0.2\n",
    "model_info.parameters[\"m_f_(0)(980)\"] = 0.980\n",
    "model_info.parameters[\"\\Gamma_f_(0)(980)\"] = 0.03\n",
    "model_info.parameters[\"meson_radius_f_(0)(500)\"] = 1\n",
    "model_info.parameters[\"meson_radius_f_(0)(980)\"] = 1"
   ]
  },
  {
   "cell_type": "code",
   "execution_count": null,
   "metadata": {},
   "outputs": [],
   "source": [
    "sy_model = SympyModel(\n",
    "    model_info.expression.full_expression,\n",
    "    parameters={k: v.value for k, v in model_info.parameters.items()},\n",
    "    variables={},\n",
    ")\n",
    "intensity = Intensity(sy_model)"
   ]
  },
  {
   "cell_type": "code",
   "execution_count": null,
   "metadata": {},
   "outputs": [],
   "source": [
    "kinematics = HelicityKinematics(\n",
    "    ParticleReactionKinematicsInfo(\n",
    "        initial_state_names=[\n",
    "            x.name for x in model_info.kinematics.initial_state.values()\n",
    "        ],\n",
    "        final_state_names=[\n",
    "            x.name for x in model_info.kinematics.final_state.values()\n",
    "        ],\n",
    "        particles=model_info.particles,\n",
    "        fs_id_event_pos_mapping=dict(\n",
    "            {\n",
    "                k: i\n",
    "                for i, k in enumerate(model_info.kinematics.final_state.keys())\n",
    "            }\n",
    "        ),\n",
    "    )\n",
    ")\n",
    "kinematics.register_subsystem(SubSystem([[3, 4], [2]], [], []))\n",
    "kinematics.register_subsystem(SubSystem([[3], [4]], [2], []))\n",
    "sy.Symbol(kinematics.register_invariant_mass([2, 4]))"
   ]
  },
  {
   "cell_type": "code",
   "execution_count": null,
   "metadata": {},
   "outputs": [],
   "source": [
    "data_sample = generate_data(10000, kinematics, intensity)\n",
    "data_set = kinematics.convert(data_sample)\n",
    "data_frame = pd.DataFrame(data_set)\n",
    "data_frame"
   ]
  },
  {
   "cell_type": "code",
   "execution_count": null,
   "metadata": {},
   "outputs": [],
   "source": [
    "data_frame[\"m_3+4\"].hist(bins=100);"
   ]
  },
  {
   "cell_type": "code",
   "execution_count": null,
   "metadata": {},
   "outputs": [],
   "source": [
    "data_frame[\"theta_3_4_vs_2\"].hist(bins=100);"
   ]
  },
  {
   "cell_type": "code",
   "execution_count": null,
   "metadata": {},
   "outputs": [],
   "source": [
    "plt.hist2d(\n",
    "    data_frame[\"m_3+4\"] ** 2,\n",
    "    data_frame[\"m_2+4\"] ** 2,\n",
    "    bins=(80, 80),\n",
    "    cmin=1e-8,\n",
    ");"
   ]
  },
  {
   "cell_type": "code",
   "execution_count": null,
   "metadata": {},
   "outputs": [],
   "source": [
    "phsp_sample = generate_phsp(100000, kinematics)\n",
    "phsp_set = kinematics.convert(phsp_sample)\n",
    "phsp_frame = pd.DataFrame(phsp_set)\n",
    "plt.hist2d(\n",
    "    phsp_frame[\"m_3+4\"] ** 2,\n",
    "    phsp_frame[\"m_2+4\"] ** 2,\n",
    "    bins=(80, 80),\n",
    "    cmin=1e-8,\n",
    ");"
   ]
  },
  {
   "cell_type": "code",
   "execution_count": null,
   "metadata": {},
   "outputs": [],
   "source": [
    "estimator = SympyUnbinnedNLL(sy_model, data_set, phsp_set)"
   ]
  },
  {
   "cell_type": "code",
   "execution_count": null,
   "metadata": {},
   "outputs": [],
   "source": [
    "def ll_scan(parameter: str):\n",
    "    return np.vectorize(lambda x: estimator({parameter: x}))"
   ]
  },
  {
   "cell_type": "code",
   "execution_count": null,
   "metadata": {},
   "outputs": [],
   "source": [
    "x = np.arange(0.28, 1.0, 0.02)\n",
    "y = ll_scan(\"m_f_(0)(500)\")(x)\n",
    "plt.plot(x, y);"
   ]
  },
  {
   "cell_type": "code",
   "execution_count": null,
   "metadata": {},
   "outputs": [],
   "source": [
    "x = np.arange(0, 0.6, 0.02)\n",
    "y = ll_scan(R\"\\Gamma_f_(0)(980)\")(x)\n",
    "plt.plot(x, y);"
   ]
  },
  {
   "cell_type": "code",
   "execution_count": null,
   "metadata": {},
   "outputs": [],
   "source": [
    "starting_values = {\n",
    "    \"m_f_(0)(500)\": 0.4,\n",
    "    R\"\\Gamma_f_(0)(980)\": 0.1,\n",
    "}\n",
    "intensity.update_parameters(starting_values)\n",
    "starting_fit_sample = generate_data(10000, kinematics, intensity)\n",
    "starting_fit_set = kinematics.convert(starting_fit_sample)\n",
    "starting_fit = pd.DataFrame(starting_fit_set)"
   ]
  },
  {
   "cell_type": "code",
   "execution_count": null,
   "metadata": {},
   "outputs": [],
   "source": [
    "data_frame[\"m_3+4\"].hist(bins=100, alpha=0.5)\n",
    "starting_fit[\"m_3+4\"].hist(bins=100, histtype=\"step\", color=\"red\");"
   ]
  },
  {
   "cell_type": "code",
   "execution_count": null,
   "metadata": {},
   "outputs": [],
   "source": [
    "minuit2 = Minuit2()\n",
    "result = minuit2.optimize(estimator, starting_values)\n",
    "result"
   ]
  },
  {
   "cell_type": "code",
   "execution_count": null,
   "metadata": {},
   "outputs": [],
   "source": [
    "intensity.update_parameters(result[\"parameter_values\"])\n",
    "fitted_data_sample = generate_data(10000, kinematics, intensity)"
   ]
  },
  {
   "cell_type": "code",
   "execution_count": null,
   "metadata": {},
   "outputs": [],
   "source": [
    "fitted_data_set = kinematics.convert(fitted_data_sample)\n",
    "fitted_data_frame = pd.DataFrame(fitted_data_set)\n",
    "data_frame[\"m_3+4\"].hist(bins=100, alpha=0.5)\n",
    "fitted_data_frame[\"m_3+4\"].hist(bins=100, histtype=\"step\", color=\"red\");"
   ]
  }
 ],
 "metadata": {
  "celltoolbar": "Raw Cell Format",
  "kernelspec": {
   "display_name": "Python 3",
   "language": "python",
   "name": "python3"
  },
  "language_info": {
   "codemirror_mode": {
    "name": "ipython",
    "version": 3
   },
   "file_extension": ".py",
   "mimetype": "text/x-python",
   "name": "python",
   "nbconvert_exporter": "python",
   "pygments_lexer": "ipython3",
   "version": "3.8.5"
  }
 },
 "nbformat": 4,
 "nbformat_minor": 4
}
