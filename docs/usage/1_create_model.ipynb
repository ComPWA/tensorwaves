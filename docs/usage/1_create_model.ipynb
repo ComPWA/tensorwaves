{
 "cells": [
  {
   "cell_type": "markdown",
   "metadata": {},
   "source": [
    "# Step 1: Create an amplitude model"
   ]
  },
  {
   "cell_type": "markdown",
   "metadata": {},
   "source": [
    "[tensorwaves](tensorwaves) requires you to first formulate an amplitude model that you want to fit to your data set. The [expertsystem](expertsystem) helps you to construct such a model.\n",
    "\n",
    "This notebook briefly illustrates how to create such an amplitude model with the [expertsystem](expertsystem) and how to write it to a recipe file that can be understood by [tensorwaves](tensorwaves). For more control, have a look at {doc}`the usage guides of the PWA Expert System <expertsystem:usage>`."
   ]
  },
  {
   "cell_type": "markdown",
   "metadata": {},
   "source": [
    "In this example, we use the helicity formalism, but you can also use `formalism_type=\"canonical-helicity\"`. As you can see, we analyze the decay $J/\\psi \\to \\pi^0\\pi^0\\gamma$ here."
   ]
  },
  {
   "cell_type": "markdown",
   "metadata": {},
   "source": [
    "```{admonition} Simplified model: $J/\\psi \\to f_0\\gamma$\n",
    "---\n",
    "class: dropdown\n",
    "---\n",
    "As {doc}`3_perform_fit` serves to illustrate usage only, we make the amplitude model here a bit simpler by not allowing $\\omega$ resonances (which are narrow and therefore hard to fit). For this reason, we can also limit the {class}`~expertsystem.reaction.solving.InteractionTypes` to {attr}`~expertsystem.reaction.solving.InteractionTypes.Strong`.\n",
    "```"
   ]
  },
  {
   "cell_type": "code",
   "execution_count": null,
   "metadata": {},
   "outputs": [],
   "source": [
    "import expertsystem as es\n",
    "\n",
    "result = es.generate_transitions(\n",
    "    initial_state=(\"J/psi(1S)\", [-1, +1]),\n",
    "    final_state=[\"gamma\", \"pi0\", \"pi0\"],\n",
    "    allowed_intermediate_particles=[\"f(0)\"],\n",
    "    allowed_interaction_types=\"strong and EM\",\n",
    ")"
   ]
  },
  {
   "cell_type": "markdown",
   "metadata": {},
   "source": [
    "As a small goodie, you can use [graphviz](https://pypi.org/project/graphviz) to {doc}`visualize the found graphs <expertsystem:usage/visualization>`:"
   ]
  },
  {
   "cell_type": "code",
   "execution_count": null,
   "metadata": {},
   "outputs": [],
   "source": [
    "from graphviz import Source\n",
    "\n",
    "graphs = result.collapse_graphs()\n",
    "dot = es.io.convert_to_dot(graphs)\n",
    "Source(dot)"
   ]
  },
  {
   "cell_type": "markdown",
   "metadata": {},
   "source": [
    "Next we convert the [solutions](expertsystem.reaction.solving.Result.solutions) into an [AmplitudeModel](expertsystem.amplitude.model.AmplitudeModel). This can be done with the [generate_amplitudes](expertsystem.generate_amplitudes) method."
   ]
  },
  {
   "cell_type": "code",
   "execution_count": null,
   "metadata": {},
   "outputs": [],
   "source": [
    "model = es.generate_amplitudes(result)\n",
    "list(model.parameters)"
   ]
  },
  {
   "cell_type": "markdown",
   "metadata": {},
   "source": [
    "Note that we have to specify the dynamics for the resonances. We choose to use {class}`~expertsystem.amplitude.model.RelativisticBreitWigner` for all resonances:"
   ]
  },
  {
   "cell_type": "code",
   "execution_count": null,
   "metadata": {},
   "outputs": [],
   "source": [
    "for name in result.get_intermediate_particles().names:\n",
    "    model.dynamics.set_breit_wigner(name)\n",
    "{name: type(dyn) for name, dyn in model.dynamics.items()}"
   ]
  },
  {
   "cell_type": "markdown",
   "metadata": {},
   "source": [
    "Finally, we can write the [AmplitudeModel](expertsystem.amplitude.model.AmplitudeModel), using the [io.write](expertsystem.io.write) function:"
   ]
  },
  {
   "cell_type": "code",
   "execution_count": null,
   "metadata": {},
   "outputs": [],
   "source": [
    "es.io.write(model, \"amplitude_model_helicity.yml\")"
   ]
  },
  {
   "cell_type": "markdown",
   "metadata": {},
   "source": [
    "Cool, that's it! We now have a recipe for an amplitude model with which to [generate data](./2_generate_data) and [perform a fit](./3_perform_fit)! In the [next steps](./2_generate_data), we will use use this [AmplitudeModel](expertsystem.amplitude.model.AmplitudeModel) as a fit model template for [tensorwaves](tensorwaves)."
   ]
  }
 ],
 "metadata": {
  "celltoolbar": "Raw Cell Format",
  "kernelspec": {
   "display_name": "Python 3",
   "language": "python",
   "name": "python3"
  },
  "language_info": {
   "codemirror_mode": {
    "name": "ipython",
    "version": 3
   },
   "file_extension": ".py",
   "mimetype": "text/x-python",
   "name": "python",
   "nbconvert_exporter": "python",
   "pygments_lexer": "ipython3",
   "version": "3.8.5"
  }
 },
 "nbformat": 4,
 "nbformat_minor": 4
}
