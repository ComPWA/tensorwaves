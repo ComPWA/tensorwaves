{
 "cells": [
  {
   "cell_type": "code",
   "execution_count": null,
   "metadata": {
    "hideCode": true,
    "hideOutput": true,
    "hidePrompt": true,
    "jupyter": {
     "source_hidden": true
    },
    "slideshow": {
     "slide_type": "skip"
    },
    "tags": [
     "remove-cell",
     "skip-execution"
    ]
   },
   "outputs": [],
   "source": [
    "# WARNING: advised to install a specific version, e.g. tensorwaves==0.1.2\n",
    "%pip install -q tensorwaves[doc,jax,pwa,viz] IPython"
   ]
  },
  {
   "cell_type": "code",
   "execution_count": null,
   "metadata": {
    "hideCode": true,
    "hideOutput": true,
    "hidePrompt": true,
    "jupyter": {
     "source_hidden": true
    },
    "slideshow": {
     "slide_type": "skip"
    },
    "tags": [
     "remove-cell"
    ]
   },
   "outputs": [],
   "source": [
    "%config InlineBackend.figure_formats = ['svg']\n",
    "import os\n",
    "\n",
    "from IPython.display import display  # noqa: F401\n",
    "\n",
    "STATIC_WEB_PAGE = {\"EXECUTE_NB\", \"READTHEDOCS\"}.intersection(os.environ)"
   ]
  },
  {
   "cell_type": "markdown",
   "metadata": {},
   "source": [
    "```{autolink-concat}\n",
    "```"
   ]
  },
  {
   "cell_type": "markdown",
   "metadata": {},
   "source": [
    "# Chi-squared estimator"
   ]
  },
  {
   "cell_type": "markdown",
   "metadata": {},
   "source": [
    "One of the {class}`.Estimator`s in the {mod}`.estimator` module is {class}`.ChiSquared`. This estimator is useful if you have a set of $n$ measured values $\\mathbf{y}=\\left\\{y_1, y_2, \\dots, y_n\\right\\}$ for $m$-dimensional data points $\\mathbf{x}=\\left\\{x_{j,1}, x_{j,2}, \\dots, x_{j,n}\\right\\}$, with $j\\in\\left\\{1, \\dots, m\\right\\}$.\n",
    "\n",
    "To illustrate how to fit an expression to some data sample $\\mathbf{x},\\mathbf{y}$, we'll generate 'observed' values $\\mathbf{y}$ for the following 1-dimensional polynomial."
   ]
  },
  {
   "cell_type": "code",
   "execution_count": null,
   "metadata": {},
   "outputs": [],
   "source": [
    "import sympy as sp\n",
    "\n",
    "a, b, c, x = sp.symbols(\"a b c x\")\n",
    "expression = a + b * x + c * x**2\n",
    "expression"
   ]
  },
  {
   "cell_type": "markdown",
   "metadata": {},
   "source": [
    "From this expression, we create a {class}`.ParametrizedFunction`, where the symbols $a,b,c$ are interpreted as its parameters. The values here are chosen arbitrarily to generate the $\\mathbf{y}$-values in the next step."
   ]
  },
  {
   "cell_type": "code",
   "execution_count": null,
   "metadata": {},
   "outputs": [],
   "source": [
    "from tensorwaves.function.sympy import create_parametrized_function\n",
    "\n",
    "function = create_parametrized_function(\n",
    "    expression,\n",
    "    parameters={a: 17, b: -2, c: -0.8},\n",
    "    backend=\"jax\",\n",
    ")"
   ]
  },
  {
   "cell_type": "markdown",
   "metadata": {},
   "source": [
    "Next, we uniformly generate data points $\\mathbf{x}$ a line segment. The corresponding values for $\\mathbf{y}$ are computed with the above polynomial function and smeared with a small, normally distributed offset."
   ]
  },
  {
   "cell_type": "code",
   "execution_count": null,
   "metadata": {},
   "outputs": [],
   "source": [
    "import numpy as np\n",
    "\n",
    "\n",
    "def smear_gaussian(array, sigma, rng):\n",
    "    return array + rng.normal(scale=sigma, size=len(array))\n",
    "\n",
    "\n",
    "rng = np.random.default_rng(seed=0)\n",
    "sample_size = 500\n",
    "x_min, x_max = -5, +5\n",
    "x_values = rng.uniform(x_min, x_max, sample_size)\n",
    "data = {\"x\": x_values}\n",
    "observed_y = function(data)\n",
    "observed_y = smear_gaussian(observed_y, sigma=5, rng=rng)"
   ]
  },
  {
   "cell_type": "markdown",
   "metadata": {},
   "source": [
    "To make the fit a bit more interesting, we give the {attr}`~.ParametrizedFunction.parameters` a different value than the ones we used to generate the $\\mathbf{y}$-values with."
   ]
  },
  {
   "cell_type": "code",
   "execution_count": null,
   "metadata": {
    "tags": []
   },
   "outputs": [],
   "source": [
    "original_parameters = function.parameters\n",
    "initial_parameters = {\"a\": -25, \"b\": 1.5, \"c\": 2.6}\n",
    "function.update_parameters(initial_parameters)"
   ]
  },
  {
   "cell_type": "code",
   "execution_count": null,
   "metadata": {
    "jupyter": {
     "source_hidden": true
    },
    "tags": [
     "hide-input"
    ]
   },
   "outputs": [],
   "source": [
    "import matplotlib.pyplot as plt\n",
    "\n",
    "\n",
    "def compare_model(function, x_values, observed_y):\n",
    "    fig, ax = plt.subplots(figsize=(8, 4))\n",
    "    linear_domain = {\"x\": np.linspace(x_min, x_max, 100)}\n",
    "    ax.plot(\n",
    "        linear_domain[\"x\"],\n",
    "        function(linear_domain),\n",
    "        c=\"red\",\n",
    "        linewidth=3,\n",
    "        label=\"initial fit model\",\n",
    "    )\n",
    "    ax.scatter(x_values, observed_y, s=2, label=\"generated data\")\n",
    "    ax.set_xlabel(\"$x$\")\n",
    "    ax.set_ylabel(\"$y$\")\n",
    "    ax.set_ylim([-30, 50])\n",
    "    ax.legend(loc=\"upper left\")\n",
    "    plt.show()\n",
    "\n",
    "\n",
    "compare_model(function, x_values, observed_y)"
   ]
  },
  {
   "cell_type": "markdown",
   "metadata": {},
   "source": [
    "Finally, we construct a {class}`.ChiSquared` estimator and use it to optimize the {class}`.ParametrizedFunction` with regard to the $\\mathbf{x},\\mathbf{y}$ data points."
   ]
  },
  {
   "cell_type": "code",
   "execution_count": null,
   "metadata": {},
   "outputs": [],
   "source": [
    "from tensorwaves.estimator import ChiSquared\n",
    "from tensorwaves.optimizer import Minuit2\n",
    "\n",
    "estimator = ChiSquared(function, data, observed_y, backend=\"jax\")\n",
    "optimizer = Minuit2()\n",
    "fit_result = optimizer.optimize(estimator, initial_parameters)\n",
    "fit_result"
   ]
  },
  {
   "cell_type": "code",
   "execution_count": null,
   "metadata": {
    "jupyter": {
     "source_hidden": true
    },
    "tags": [
     "remove-cell"
    ]
   },
   "outputs": [],
   "source": [
    "assert fit_result.minimum_valid"
   ]
  },
  {
   "cell_type": "markdown",
   "metadata": {},
   "source": [
    "The optimized parameters in the {class}`.FitResult` are indeed comparable to the original parameter values with which the data was generated:"
   ]
  },
  {
   "cell_type": "code",
   "execution_count": null,
   "metadata": {},
   "outputs": [],
   "source": [
    "original_parameters"
   ]
  },
  {
   "cell_type": "code",
   "execution_count": null,
   "metadata": {
    "jupyter": {
     "source_hidden": true
    },
    "tags": [
     "hide-input"
    ]
   },
   "outputs": [],
   "source": [
    "compare_model(function, x_values, observed_y)"
   ]
  }
 ],
 "metadata": {
  "kernelspec": {
   "display_name": "Python 3 (ipykernel)",
   "language": "python",
   "name": "python3"
  },
  "language_info": {
   "name": "python",
   "version": "3.8.12"
  }
 },
 "nbformat": 4,
 "nbformat_minor": 4
}
