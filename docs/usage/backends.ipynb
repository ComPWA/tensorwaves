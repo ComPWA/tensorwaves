{
 "cells": [
  {
   "cell_type": "markdown",
   "metadata": {},
   "source": [
    "# Switching backends"
   ]
  },
  {
   "cell_type": "markdown",
   "metadata": {},
   "source": [
    "```{note}\n",
    "See also {doc}`sympy`.\n",
    "```"
   ]
  },
  {
   "cell_type": "code",
   "execution_count": null,
   "metadata": {
    "tags": [
     "hide-cell"
    ]
   },
   "outputs": [],
   "source": [
    "import logging\n",
    "\n",
    "import expertsystem as es\n",
    "import matplotlib.pyplot as plt\n",
    "import numpy as np\n",
    "import pandas as pd\n",
    "import sympy as sy\n",
    "from expertsystem.amplitude.dynamics import (\n",
    "    relativistic_breit_wigner,\n",
    "    relativistic_breit_wigner_with_form_factor,\n",
    ")\n",
    "from IPython.display import display\n",
    "from tensorwaves.data.generate import generate_data, generate_phsp\n",
    "from tensorwaves.estimator import SympyUnbinnedNLL\n",
    "from tensorwaves.optimizer.minuit import Minuit2\n",
    "from tensorwaves.physics.amplitude import Intensity, SympyModel\n",
    "from tensorwaves.physics.helicity_formalism.kinematics import (\n",
    "    HelicityKinematics,\n",
    "    ParticleReactionKinematicsInfo,\n",
    "    SubSystem,\n",
    ")\n",
    "\n",
    "logging.getLogger().setLevel(logging.INFO)"
   ]
  },
  {
   "cell_type": "code",
   "execution_count": null,
   "metadata": {},
   "outputs": [],
   "source": [
    "result = es.generate_transitions(\n",
    "    initial_state=(\"J/psi(1S)\", [-1, +1]),\n",
    "    final_state=[\"gamma\", \"pi0\", \"pi0\"],\n",
    "    allowed_intermediate_particles=[\n",
    "        \"f(0)(500)\",\n",
    "        \"f(0)(980)\",\n",
    "    ],\n",
    "    formalism_type=\"helicity\",\n",
    "    topology_building=\"isobar\",\n",
    "    allowed_interaction_types=[\"EM\", \"strong\"],\n",
    "    number_of_threads=1,\n",
    ")\n",
    "model_info = es.amplitude.generate_sympy(result)"
   ]
  },
  {
   "cell_type": "code",
   "execution_count": null,
   "metadata": {},
   "outputs": [],
   "source": [
    "dynamics_choices = {\n",
    "    \"D[f_{0}(500) \\\\to \\\\pi^{0} \\\\pi^{0}]\": relativistic_breit_wigner_with_form_factor(\n",
    "        sy.Symbol(\"m_3+4\"),\n",
    "        sy.Symbol(\"m_f_(0)(500)\"),\n",
    "        sy.Symbol(R\"\\Gamma_f_(0)(500)\"),\n",
    "        m_a=0.13497,\n",
    "        m_b=0.13497,\n",
    "        angular_momentum=0,\n",
    "        meson_radius=sy.Symbol(\"meson_radius_f_(0)(500)\"),\n",
    "    ),\n",
    "    \"D[f_{0}(980) \\\\to \\\\pi^{0} \\\\pi^{0}]\": relativistic_breit_wigner_with_form_factor(\n",
    "        sy.Symbol(\"m_3+4\"),\n",
    "        sy.Symbol(\"m_f_(0)(980)\"),\n",
    "        sy.Symbol(\"\\Gamma_f_(0)(980)\"),\n",
    "        m_a=0.13497,\n",
    "        m_b=0.13497,\n",
    "        angular_momentum=0,\n",
    "        meson_radius=sy.Symbol(\"meson_radius_f_(0)(980)\"),\n",
    "    ),\n",
    "}\n",
    "\n",
    "model_info.expression.dynamics.update(\n",
    "    {\n",
    "        k: dynamics_choices[k.name]\n",
    "        for k in model_info.expression.dynamics\n",
    "        if k.name in dynamics_choices\n",
    "    }\n",
    ")"
   ]
  },
  {
   "cell_type": "code",
   "execution_count": null,
   "metadata": {},
   "outputs": [],
   "source": [
    "new_params = es.amplitude.sympy.SuggestedParameterValues()\n",
    "subs_dict = {}\n",
    "for par, val in model_info.parameters.items():\n",
    "    real = sy.Symbol(f\"real_{par.name}\", real=True)\n",
    "    imag = sy.Symbol(f\"imag_{par.name}\", real=True)\n",
    "    new_params[real] = 1.0\n",
    "    new_params[imag] = 0.0\n",
    "    subs_dict[par] = real + sy.I * imag\n",
    "\n",
    "model_info.expression.amplitudes = {\n",
    "    k: v.subs(subs_dict) for k, v in model_info.expression.amplitudes.items()\n",
    "}\n",
    "model_info.parameters = new_params"
   ]
  },
  {
   "cell_type": "code",
   "execution_count": null,
   "metadata": {},
   "outputs": [],
   "source": [
    "model_info.parameters[\"m_f_(0)(500)\"] = 0.5\n",
    "model_info.parameters[R\"\\Gamma_f_(0)(500)\"] = 0.2\n",
    "model_info.parameters[\"m_f_(0)(980)\"] = 0.980\n",
    "model_info.parameters[\"\\Gamma_f_(0)(980)\"] = 0.03\n",
    "model_info.parameters[\"meson_radius_f_(0)(500)\"] = 1\n",
    "model_info.parameters[\"meson_radius_f_(0)(980)\"] = 1"
   ]
  },
  {
   "cell_type": "code",
   "execution_count": null,
   "metadata": {},
   "outputs": [],
   "source": [
    "sy_model = SympyModel(\n",
    "    model_info.expression.full_expression,\n",
    "    parameters={k: v.value for k, v in model_info.parameters.items()},\n",
    "    variables={},\n",
    ")"
   ]
  },
  {
   "cell_type": "code",
   "execution_count": null,
   "metadata": {},
   "outputs": [],
   "source": [
    "def perform_fit(backend: str, analytic_gradient: bool = False) -> None:\n",
    "    intensity = Intensity(sy_model, backend)\n",
    "    kinematics = HelicityKinematics(\n",
    "        ParticleReactionKinematicsInfo(\n",
    "            initial_state_names=[\n",
    "                x.name for x in model_info.kinematics.initial_state.values()\n",
    "            ],\n",
    "            final_state_names=[\n",
    "                x.name for x in model_info.kinematics.final_state.values()\n",
    "            ],\n",
    "            particles=model_info.particles,\n",
    "            fs_id_event_pos_mapping=dict(\n",
    "                {\n",
    "                    k: i\n",
    "                    for i, k in enumerate(\n",
    "                        model_info.kinematics.final_state.keys()\n",
    "                    )\n",
    "                }\n",
    "            ),\n",
    "        )\n",
    "    )\n",
    "    kinematics.register_subsystem(SubSystem([[3, 4], [2]], [], []))\n",
    "    kinematics.register_subsystem(SubSystem([[3], [4]], [2], []))\n",
    "\n",
    "    data_sample = generate_data(10_000, kinematics, intensity)\n",
    "    data_set = kinematics.convert(data_sample)\n",
    "    data_frame = pd.DataFrame(data_set)\n",
    "\n",
    "    phsp_sample = generate_phsp(100_000, kinematics)\n",
    "    phsp_set = kinematics.convert(phsp_sample)\n",
    "\n",
    "    estimator = SympyUnbinnedNLL(sy_model, data_set, phsp_set, backend=backend)\n",
    "    starting_values = {\n",
    "        \"m_f_(0)(500)\": 0.4,\n",
    "        R\"\\Gamma_f_(0)(980)\": 0.1,\n",
    "    }\n",
    "    intensity.update_parameters(starting_values)\n",
    "    minuit2 = Minuit2(use_analytic_gradient=analytic_gradient)\n",
    "    result = minuit2.optimize(estimator, starting_values)\n",
    "    display(result)\n",
    "    intensity.update_parameters(result[\"parameter_values\"])\n",
    "    fitted_data_sample = generate_data(10000, kinematics, intensity)\n",
    "    fitted_data_set = kinematics.convert(fitted_data_sample)\n",
    "    fitted_data_frame = pd.DataFrame(fitted_data_set)\n",
    "    data_frame[\"m_3+4\"].hist(bins=100, alpha=0.5)\n",
    "    fitted_data_frame[\"m_3+4\"].hist(bins=100, histtype=\"step\", color=\"red\")\n",
    "    plt.show()"
   ]
  },
  {
   "cell_type": "code",
   "execution_count": null,
   "metadata": {},
   "outputs": [],
   "source": [
    "%time perform_fit(\"jax\", analytic_gradient=True)"
   ]
  },
  {
   "cell_type": "code",
   "execution_count": null,
   "metadata": {},
   "outputs": [],
   "source": [
    "%time perform_fit(\"jax\", analytic_gradient=False)"
   ]
  },
  {
   "cell_type": "code",
   "execution_count": null,
   "metadata": {},
   "outputs": [],
   "source": [
    "%time perform_fit(\"numpy\")"
   ]
  }
 ],
 "metadata": {
  "celltoolbar": "Raw Cell Format",
  "kernelspec": {
   "display_name": "Python 3",
   "language": "python",
   "name": "python3"
  },
  "language_info": {
   "codemirror_mode": {
    "name": "ipython",
    "version": 3
   },
   "file_extension": ".py",
   "mimetype": "text/x-python",
   "name": "python",
   "nbconvert_exporter": "python",
   "pygments_lexer": "ipython3",
   "version": "3.8.5"
  }
 },
 "nbformat": 4,
 "nbformat_minor": 4
}
