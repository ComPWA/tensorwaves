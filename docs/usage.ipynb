{
 "cells": [
  {
   "cell_type": "code",
   "execution_count": null,
   "metadata": {
    "hideCode": true,
    "hideOutput": true,
    "hidePrompt": true,
    "jupyter": {
     "source_hidden": true
    },
    "slideshow": {
     "slide_type": "skip"
    },
    "tags": [
     "remove-cell",
     "skip-execution"
    ]
   },
   "outputs": [],
   "source": [
    "# WARNING: advised to install a specific version, e.g. tensorwaves==0.1.2\n",
    "%pip install -q tensorwaves[doc,jax,pwa,viz] IPython"
   ]
  },
  {
   "cell_type": "code",
   "execution_count": null,
   "metadata": {
    "hideCode": true,
    "hideOutput": true,
    "hidePrompt": true,
    "jupyter": {
     "source_hidden": true
    },
    "slideshow": {
     "slide_type": "skip"
    },
    "tags": [
     "remove-cell"
    ]
   },
   "outputs": [],
   "source": [
    "%config InlineBackend.figure_formats = ['svg']\n",
    "import os\n",
    "\n",
    "from IPython.display import display  # noqa: F401\n",
    "\n",
    "STATIC_WEB_PAGE = {\"EXECUTE_NB\", \"READTHEDOCS\"}.intersection(os.environ)"
   ]
  },
  {
   "cell_type": "markdown",
   "metadata": {},
   "source": [
    "```{autolink-concat}\n",
    "```"
   ]
  },
  {
   "cell_type": "markdown",
   "metadata": {
    "tags": []
   },
   "source": [
    "# General examples"
   ]
  },
  {
   "cell_type": "markdown",
   "metadata": {},
   "source": [
    "TensorWaves is a package for fitting general mathematical expressions to data distributions. It has three main ingredients:\n",
    "\n",
    "- Express mathematical expressions in terms of {ref}`different computational backends <usage:Computational backends>`.\n",
    "- {ref}`Generate and/or transform data distributions <usage:Generate and transform data>` with those mathematical expressions.\n",
    "- {ref}`Optimize parameters <usage:Optimize parameters>` in a model with regard to a data distribution."
   ]
  },
  {
   "cell_type": "markdown",
   "metadata": {},
   "source": [
    "## Overview"
   ]
  },
  {
   "cell_type": "code",
   "execution_count": null,
   "metadata": {
    "jupyter": {
     "source_hidden": true
    },
    "tags": [
     "remove-cell"
    ]
   },
   "outputs": [],
   "source": [
    "import logging\n",
    "\n",
    "logging.getLogger(\"absl\").setLevel(logging.ERROR)"
   ]
  },
  {
   "cell_type": "markdown",
   "metadata": {},
   "source": [
    "### Optimize parameters"
   ]
  },
  {
   "cell_type": "markdown",
   "metadata": {},
   "source": [
    "The most important feature of TensorWaves are the {mod}`.optimizer` and {mod}`.estimator` modules. These can be used to optimize the parameters in a {class}`.ParametrizedFunction` to a data distribution. Here is a one-dimensional example for a {obj}`~numpy.random.normal` distribution!"
   ]
  },
  {
   "cell_type": "code",
   "execution_count": null,
   "metadata": {
    "tags": []
   },
   "outputs": [],
   "source": [
    "import numpy as np\n",
    "\n",
    "rng = np.random.default_rng(seed=0)\n",
    "data = {\n",
    "    \"x\": rng.normal(loc=25, scale=5, size=1_000),\n",
    "}"
   ]
  },
  {
   "cell_type": "markdown",
   "metadata": {},
   "source": [
    "The normal distribution can probably be described with a Gaussian function:"
   ]
  },
  {
   "cell_type": "code",
   "execution_count": null,
   "metadata": {
    "tags": []
   },
   "outputs": [],
   "source": [
    "import sympy as sp\n",
    "\n",
    "x, n, mu, sigma = sp.symbols(\"x n mu sigma\")\n",
    "expression = n * sp.exp(-((x - mu) ** 2) / (2 * sigma**2))\n",
    "expression"
   ]
  },
  {
   "cell_type": "markdown",
   "metadata": {},
   "source": [
    "TensorWaves can express this mathematical expression as a computation function {ref}`in different kinds of backends <usage:Computational backends>`, so that we can perform fast computations on large data samples. Here, we identify some of the {class}`~sympy.core.symbol.Symbol`s in the expression as parameters and create a {class}`.ParametrizedFunction`, so that we can 'fit' the function to the generated distribution."
   ]
  },
  {
   "cell_type": "code",
   "execution_count": null,
   "metadata": {
    "tags": []
   },
   "outputs": [],
   "source": [
    "from tensorwaves.function.sympy import create_parametrized_function\n",
    "\n",
    "function = create_parametrized_function(\n",
    "    expression,\n",
    "    parameters={n: 30, mu: 15, sigma: 11},\n",
    "    backend=\"jax\",\n",
    ")\n",
    "initial_parameters = function.parameters"
   ]
  },
  {
   "cell_type": "code",
   "execution_count": null,
   "metadata": {
    "jupyter": {
     "source_hidden": true
    },
    "tags": [
     "hide-input"
    ]
   },
   "outputs": [],
   "source": [
    "import matplotlib.pyplot as plt\n",
    "\n",
    "fig, ax = plt.subplots(figsize=(5, 3))\n",
    "fig.canvas.toolbar_visible = False\n",
    "fig.canvas.header_visible = False\n",
    "fig.canvas.footer_visible = False\n",
    "ax.set_title(\"First parameter guess\")\n",
    "ax.set_xlabel(\"$x$\")\n",
    "ax.set_yticks([])\n",
    "bin_values, bin_edges, _ = ax.hist(data[\"x\"], bins=50, alpha=0.7, label=\"data\")\n",
    "x_values = (bin_edges[1:] + bin_edges[:-1]) / 2\n",
    "y_values = bin_values\n",
    "function.update_parameters(initial_parameters)\n",
    "lines = ax.plot(\n",
    "    x_values, function({\"x\": x_values}), c=\"red\", linewidth=2, label=\"model\"\n",
    ")\n",
    "ax.legend(loc=\"upper right\")\n",
    "plt.show()"
   ]
  },
  {
   "cell_type": "markdown",
   "metadata": {},
   "source": [
    "Next, we construct an {class}`.Estimator` and an {class}`.Optimizer`. These are used to {meth}`~.Optimizer.optimize` the {class}`.ParametrizedFunction` to the data distribution.\n",
    "\n",
    ":::{tip}\n",
    "\n",
    "{mod}`.callbacks` allow inserting custom behavior into the {class}`.Optimizer`. Here, we create a custom callback to create an animation of the fit!\n",
    "\n",
    ":::"
   ]
  },
  {
   "cell_type": "markdown",
   "metadata": {},
   "source": [
    "```{autolink-skip}\n",
    "```"
   ]
  },
  {
   "cell_type": "code",
   "execution_count": null,
   "metadata": {
    "jupyter": {
     "source_hidden": true
    },
    "tags": [
     "hide-cell"
    ]
   },
   "outputs": [],
   "source": [
    "%matplotlib widget\n",
    "import matplotlib.pyplot as plt\n",
    "from matplotlib.animation import PillowWriter\n",
    "\n",
    "from tensorwaves.optimizer.callbacks import Callback\n",
    "\n",
    "plt.ioff()\n",
    "\n",
    "\n",
    "class FitAnimation(Callback):\n",
    "    def __init__(\n",
    "        self, data, function, x_values, output_file, estimated_iterations=140\n",
    "    ):\n",
    "        self.__function = function\n",
    "        self.__fig, (self.__ax1, self.__ax2) = plt.subplots(\n",
    "            nrows=2, figsize=(7, 7), tight_layout=True\n",
    "        )\n",
    "        self.__ax2.set_yticks(np.arange(-30, 80, 10))\n",
    "        self.__ax1.hist(data[\"x\"], bins=50, alpha=0.7, label=\"data\")\n",
    "        self.__line = self.__ax1.plot(\n",
    "            x_values,\n",
    "            function({\"x\": x_values}),\n",
    "            c=\"red\",\n",
    "            linewidth=2,\n",
    "            label=\"model\",\n",
    "        )[0]\n",
    "        self.__ax1.legend(loc=\"upper right\")\n",
    "\n",
    "        self.__par_lines = [\n",
    "            self.__ax2.plot(0, value, label=par)[0]\n",
    "            for par, value in function.parameters.items()\n",
    "        ]\n",
    "        self.__ax2.set_xlim(0, estimated_iterations)\n",
    "        self.__ax2.set_title(\"Parameter values\")\n",
    "        self.__ax2.legend(\n",
    "            [\n",
    "                f\"${sp.latex(sp.Symbol(par_name))}$\"\n",
    "                for par_name in function.parameters\n",
    "            ],\n",
    "            loc=\"upper right\",\n",
    "        )\n",
    "\n",
    "        self.__writer = PillowWriter(fps=15)\n",
    "        self.__writer.setup(self.__fig, outfile=output_file)\n",
    "\n",
    "    def on_optimize_start(self, logs):\n",
    "        self._update_plot()\n",
    "\n",
    "    def on_optimize_end(self, logs):\n",
    "        self._update_plot()\n",
    "        self.__writer.finish()\n",
    "\n",
    "    def on_iteration_end(self, iteration, logs):\n",
    "        self._update_plot()\n",
    "        self.__writer.finish()\n",
    "\n",
    "    def on_function_call_end(self, function_call, logs):\n",
    "        self._update_plot()\n",
    "\n",
    "    def _update_plot(self):\n",
    "        self._update_parametrization_plot()\n",
    "        self._update_traceback()\n",
    "        self.__writer.grab_frame()\n",
    "\n",
    "    def _update_parametrization_plot(self):\n",
    "        title = self._render_parameters(self.__function.parameters)\n",
    "        self.__ax1.set_title(title)\n",
    "        self.__line.set_ydata(self.__function({\"x\": x_values}))\n",
    "\n",
    "    def _update_traceback(self):\n",
    "        for line in self.__par_lines:\n",
    "            par_name = line.get_label()\n",
    "            new_value = function.parameters[par_name]\n",
    "            x = line.get_xdata()\n",
    "            x = [*x, x[-1] + 1]\n",
    "            y = [*line.get_ydata(), new_value]\n",
    "            line.set_xdata(x)\n",
    "            line.set_ydata(y)\n",
    "        y_values = np.array([line.get_ydata() for line in self.__par_lines])\n",
    "        self.__ax2.set_ylim(y_values.min() * 1.1, y_values.max() * 1.1)\n",
    "\n",
    "    @staticmethod\n",
    "    def _render_parameters(parameters):\n",
    "        values = []\n",
    "        for name, value in parameters.items():\n",
    "            symbol = sp.Dummy(name)\n",
    "            latex = sp.latex(symbol)\n",
    "            values.append(f\"{latex}={value:.2g}\")\n",
    "        return f'${\",\".join(values)}$'"
   ]
  },
  {
   "cell_type": "code",
   "execution_count": null,
   "metadata": {
    "tags": []
   },
   "outputs": [],
   "source": [
    "from tensorwaves.estimator import ChiSquared\n",
    "from tensorwaves.optimizer import Minuit2\n",
    "\n",
    "estimator = ChiSquared(\n",
    "    function,\n",
    "    domain={\"x\": x_values},\n",
    "    observed_values=y_values,\n",
    "    backend=\"jax\",\n",
    ")\n",
    "optimizer = Minuit2(\n",
    "    callback=FitAnimation(data, function, x_values, \"fit-animation.gif\")\n",
    ")\n",
    "fit_result = optimizer.optimize(estimator, initial_parameters)\n",
    "fit_result"
   ]
  },
  {
   "cell_type": "code",
   "execution_count": null,
   "metadata": {
    "jupyter": {
     "source_hidden": true
    },
    "tags": [
     "remove-cell"
    ]
   },
   "outputs": [],
   "source": [
    "%%capture\n",
    "plt.ion()"
   ]
  },
  {
   "cell_type": "markdown",
   "metadata": {},
   "source": [
    "::::{margin}\n",
    "\n",
    ":::{note}\n",
    "\n",
    "Execution time in this example is slow, because of the animation of the fit process.\n",
    "\n",
    ":::\n",
    "\n",
    "::::"
   ]
  },
  {
   "cell_type": "code",
   "execution_count": null,
   "metadata": {
    "jupyter": {
     "source_hidden": true
    },
    "tags": [
     "remove-input"
    ]
   },
   "outputs": [],
   "source": [
    "from IPython.display import Image\n",
    "\n",
    "with open(\"fit-animation.gif\", \"rb\") as f:\n",
    "    display(Image(data=f.read(), format=\"png\"))"
   ]
  },
  {
   "cell_type": "markdown",
   "metadata": {},
   "source": [
    ":::{tip}\n",
    "\n",
    "This example uses {class}`.ChiSquared` as estimator, because this works nicely with binned data (see also {doc}`/usage/binned-fit` and {doc}`/usage/chi-squared`). For other estimator examples, see {doc}`/usage/unbinned-fit`, {doc}`/usage/basics`, and {doc}`/amplitude-analysis`.\n",
    "\n",
    ":::"
   ]
  },
  {
   "cell_type": "markdown",
   "metadata": {},
   "source": [
    "### Computational backends"
   ]
  },
  {
   "cell_type": "markdown",
   "metadata": {},
   "source": [
    "TensorWaves uses {mod}`sympy`'s {doc}`sympy:tutorial/printing` mechanisms to formulate symbolic expressions as a function in a computational backend like [NumPy](https://numpy.org), [JAX](https://jax.readthedocs.io), and [TensorFlow](https://www.tensorflow.org)."
   ]
  },
  {
   "cell_type": "code",
   "execution_count": null,
   "metadata": {
    "tags": []
   },
   "outputs": [],
   "source": [
    "import sympy as sp\n",
    "\n",
    "x, y, a, b = sp.symbols(\"x y a b\")\n",
    "expression = x**3 + sp.sin(y / 5) ** 2\n",
    "expression"
   ]
  },
  {
   "cell_type": "code",
   "execution_count": null,
   "metadata": {
    "tags": []
   },
   "outputs": [],
   "source": [
    "from tensorwaves.function.sympy import create_function\n",
    "\n",
    "numpy_function = create_function(expression, backend=\"numpy\")\n",
    "tf_function = create_function(expression, backend=\"tensorflow\")\n",
    "jax_function = create_function(expression, backend=\"jax\", use_cse=False)"
   ]
  },
  {
   "cell_type": "code",
   "execution_count": null,
   "metadata": {
    "jupyter": {
     "source_hidden": true
    },
    "tags": [
     "hide-input"
    ]
   },
   "outputs": [],
   "source": [
    "from tensorwaves.function import get_source_code\n",
    "\n",
    "src = get_source_code(jax_function)\n",
    "print(src)"
   ]
  },
  {
   "cell_type": "markdown",
   "metadata": {},
   "source": [
    "These functions can be used to perform fast computations on large data samples:"
   ]
  },
  {
   "cell_type": "code",
   "execution_count": null,
   "metadata": {
    "tags": []
   },
   "outputs": [],
   "source": [
    "import numpy as np\n",
    "\n",
    "sample_size = 1_000_000\n",
    "data = {\n",
    "    \"x\": np.random.uniform(-50, +50, sample_size),\n",
    "    \"y\": np.random.uniform(0.1, 2.0, sample_size),\n",
    "}"
   ]
  },
  {
   "cell_type": "code",
   "execution_count": null,
   "metadata": {
    "jupyter": {
     "source_hidden": true
    },
    "tags": [
     "remove-cell"
    ]
   },
   "outputs": [],
   "source": [
    "function_output = tf_function(data)  # JIT-compile"
   ]
  },
  {
   "cell_type": "markdown",
   "metadata": {},
   "source": [
    "```{autolink-skip}\n",
    "```"
   ]
  },
  {
   "cell_type": "code",
   "execution_count": null,
   "metadata": {
    "tags": []
   },
   "outputs": [],
   "source": [
    "%timeit -n3 numpy_function(data)\n",
    "%timeit -n3 tf_function(data)\n",
    "%timeit -n3 jax_function(data)"
   ]
  },
  {
   "cell_type": "markdown",
   "metadata": {},
   "source": [
    "As we saw above, such a computational function can be used to optimize parameters in a model. It can also be used to generate data or to create an interactive visualization of an expression!"
   ]
  },
  {
   "cell_type": "markdown",
   "metadata": {},
   "source": [
    "### Generate and transform data"
   ]
  },
  {
   "cell_type": "markdown",
   "metadata": {},
   "source": [
    "The {mod}`.data` module comes with tools to generate {ref}`hit-and-miss <usage/basics:Hit & miss>` data samples for a given expression. In addition, instance of the {class}`.DataTransformer` interface allow transforming {obj}`.DataSample`s to a different coordinate system. An example would be to describe a distribution in polar coordinates $(r, \\phi)$:"
   ]
  },
  {
   "cell_type": "code",
   "execution_count": null,
   "metadata": {
    "tags": []
   },
   "outputs": [],
   "source": [
    "import sympy as sp\n",
    "\n",
    "r, phi, dphi, k_phi, k_r, sigma = sp.symbols(\n",
    "    R\"r phi \\Delta\\phi k_phi k_r sigma\"\n",
    ")\n",
    "expression = (\n",
    "    sp.exp(-r / sigma)\n",
    "    * sp.sin(k_r * r) ** 2\n",
    "    * sp.cos(k_phi * (phi + dphi)) ** 2\n",
    ")\n",
    "expression"
   ]
  },
  {
   "cell_type": "code",
   "execution_count": null,
   "metadata": {},
   "outputs": [],
   "source": [
    "polar_function = create_parametrized_function(\n",
    "    expression,\n",
    "    parameters={dphi: 0, k_r: 0.6, k_phi: 2, sigma: 2.5},\n",
    "    backend=\"jax\",\n",
    ")"
   ]
  },
  {
   "cell_type": "markdown",
   "metadata": {},
   "source": [
    "While the expression is described in polar coordinates, the input data arrays could be measured in a cartesian coordinate system. The data arrays can be converted efficiently with a {class}`.SympyDataTransformer`:"
   ]
  },
  {
   "cell_type": "code",
   "execution_count": null,
   "metadata": {
    "tags": []
   },
   "outputs": [],
   "source": [
    "cartesian_to_polar = {\n",
    "    r: sp.sqrt(x**2 + y**2),\n",
    "    phi: sp.Piecewise((0, sp.Eq(x, 0)), (sp.atan(y / x), True)),\n",
    "}"
   ]
  },
  {
   "cell_type": "code",
   "execution_count": null,
   "metadata": {
    "jupyter": {
     "source_hidden": true
    },
    "tags": [
     "hide-input"
    ]
   },
   "outputs": [],
   "source": [
    "from IPython.display import Math\n",
    "\n",
    "\n",
    "def display_definitions(definitions):\n",
    "    for symbol, expr in definitions.items():\n",
    "        latex = sp.multiline_latex(symbol, expr)\n",
    "        display(Math(latex))\n",
    "\n",
    "\n",
    "display_definitions(cartesian_to_polar)"
   ]
  },
  {
   "cell_type": "code",
   "execution_count": null,
   "metadata": {
    "tags": []
   },
   "outputs": [],
   "source": [
    "from tensorwaves.data import SympyDataTransformer\n",
    "\n",
    "converter = SympyDataTransformer.from_sympy(\n",
    "    cartesian_to_polar, backend=\"numpy\"\n",
    ")"
   ]
  },
  {
   "cell_type": "markdown",
   "metadata": {},
   "source": [
    "We can now generate a domain sample for the function as well as an intensity distribution based on that expression using the {mod}`tensorwaves.data` module. Again, we first express the mathematical expression a computational function."
   ]
  },
  {
   "cell_type": "markdown",
   "metadata": {},
   "source": [
    "We then define a domain generator and a hit-and-miss {class}`.IntensityDistributionGenerator` with which we can generate a data distribution **in cartesian coordinates** for this expression in polar coordinates."
   ]
  },
  {
   "cell_type": "code",
   "execution_count": null,
   "metadata": {
    "tags": []
   },
   "outputs": [],
   "source": [
    "from tensorwaves.data import (\n",
    "    IntensityDistributionGenerator,\n",
    "    NumpyDomainGenerator,\n",
    "    NumpyUniformRNG,\n",
    ")\n",
    "\n",
    "rng = NumpyUniformRNG()\n",
    "domain_generator = NumpyDomainGenerator(\n",
    "    boundaries={\"x\": (-5, 5), \"y\": (-5, +5)}\n",
    ")\n",
    "data_generator = IntensityDistributionGenerator(\n",
    "    domain_generator, polar_function, converter\n",
    ")\n",
    "cartesian_data = data_generator.generate(1_000_000, rng)\n",
    "polar_data = converter(cartesian_data)"
   ]
  },
  {
   "cell_type": "code",
   "execution_count": null,
   "metadata": {
    "jupyter": {
     "source_hidden": true
    },
    "tags": [
     "hide-input"
    ]
   },
   "outputs": [],
   "source": [
    "from matplotlib import cm\n",
    "\n",
    "fig, (ax1, ax2) = plt.subplots(ncols=2, figsize=(7, 4.3))\n",
    "fig.canvas.toolbar_visible = False\n",
    "fig.canvas.header_visible = False\n",
    "fig.canvas.footer_visible = False\n",
    "ax1.hist2d(*cartesian_data.values(), bins=100, cmap=cm.coolwarm)\n",
    "ax2.hist2d(polar_data[\"phi\"], polar_data[\"r\"], bins=100, cmap=cm.coolwarm)\n",
    "fig.suptitle(\"Hit-and-miss intensity distribution\")\n",
    "ax1.set_title(\"cartesian\")\n",
    "ax2.set_title(\"polar\")\n",
    "ax1.set_xlabel(\"$x$\")\n",
    "ax1.set_ylabel(\"$y$\")\n",
    "ax2.set_xlabel(R\"$\\phi$\")\n",
    "ax2.set_ylabel(\"$r$\")\n",
    "ax1.set_xticks([])\n",
    "ax1.set_yticks([])\n",
    "ax2.set_xticks([-np.pi / 2, 0, np.pi / 2])\n",
    "ax2.set_yticks([])\n",
    "ax2.set_xticklabels([r\"$-\\frac{\\pi}{2}$\", \"0\", r\"$+\\frac{\\pi}{2}$\"])\n",
    "fig.tight_layout()\n",
    "plt.show()"
   ]
  },
  {
   "cell_type": "markdown",
   "metadata": {},
   "source": [
    ":::{seealso} {ref}`usage/basics:Generate data`\n",
    "\n",
    ":::"
   ]
  },
  {
   "cell_type": "markdown",
   "metadata": {},
   "source": [
    "We can also use the {class}`.SympyDataTransformer` to **interactively visualize** how this {class}`.ParametrizedFunction` behaves for different parameter values!\n",
    "\n",
    "{{ run_interactive }}"
   ]
  },
  {
   "cell_type": "markdown",
   "metadata": {},
   "source": [
    "```{autolink-skip}\n",
    "```"
   ]
  },
  {
   "cell_type": "code",
   "execution_count": null,
   "metadata": {
    "jupyter": {
     "source_hidden": true
    },
    "tags": [
     "hide-input"
    ]
   },
   "outputs": [],
   "source": [
    "%matplotlib widget\n",
    "import ipywidgets\n",
    "import matplotlib.pyplot as plt\n",
    "import numpy as np\n",
    "from matplotlib import cm\n",
    "\n",
    "size = 200\n",
    "X, Y = np.meshgrid(\n",
    "    np.linspace(-5, +5, size),\n",
    "    np.linspace(-5, +5, size),\n",
    ")\n",
    "cartesian_domain = {\"x\": X, \"y\": Y}\n",
    "polar_domain = converter(cartesian_domain)\n",
    "\n",
    "fig, ax_interactive = plt.subplots(figsize=(5, 5), tight_layout=True)\n",
    "fig.canvas.toolbar_visible = False\n",
    "fig.canvas.header_visible = False\n",
    "fig.canvas.footer_visible = False\n",
    "ax_interactive.set_xticks([])\n",
    "ax_interactive.set_yticks([])\n",
    "ax_interactive.set_xlabel(\"$x$\")\n",
    "ax_interactive.set_ylabel(\"$y$\")\n",
    "color_mesh = None\n",
    "\n",
    "\n",
    "@ipywidgets.interact(\n",
    "    dphi=ipywidgets.FloatSlider(value=0, min=0, max=np.pi, step=np.pi / 100),\n",
    "    k_r=(0, 3.0, np.pi / 100),\n",
    "    k_phi=(0, 6),\n",
    "    sigma=(0.1, 5),\n",
    ")\n",
    "def plot(dphi, k_r, k_phi, sigma):\n",
    "    global color_mesh, X, Y\n",
    "    polar_function.update_parameters(\n",
    "        {R\"\\Delta\\phi\": dphi, \"k_r\": k_r, \"k_phi\": k_phi, \"sigma\": sigma}\n",
    "    )\n",
    "    Z = polar_function(polar_domain)\n",
    "    if color_mesh is not None:\n",
    "        color_mesh.remove()\n",
    "    color_mesh = ax_interactive.pcolormesh(X, Y, Z, cmap=cm.coolwarm)"
   ]
  },
  {
   "cell_type": "markdown",
   "metadata": {
    "tags": []
   },
   "source": [
    "## Advanced examples"
   ]
  },
  {
   "cell_type": "markdown",
   "metadata": {},
   "source": [
    "The following pages show some more specific use cases of {mod}`tensorwaves`. See {doc}`/amplitude-analysis` for how to use {mod}`tensorwaves` for Partial Wave Analysis."
   ]
  },
  {
   "cell_type": "markdown",
   "metadata": {
    "tags": []
   },
   "source": [
    "```{toctree}\n",
    "---\n",
    "maxdepth: 2\n",
    "---\n",
    "usage/basics\n",
    "usage/chi-squared\n",
    "usage/binned-fit\n",
    "usage/unbinned-fit\n",
    "usage/caching\n",
    "usage/faster-lambdify\n",
    "```"
   ]
  }
 ],
 "metadata": {
  "kernelspec": {
   "display_name": "Python 3 (ipykernel)",
   "language": "python",
   "name": "python3"
  },
  "language_info": {
   "name": "python",
   "version": "3.8.12"
  }
 },
 "nbformat": 4,
 "nbformat_minor": 4
}
