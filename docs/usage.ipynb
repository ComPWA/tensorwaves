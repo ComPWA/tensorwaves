{
 "cells": [
  {
   "cell_type": "markdown",
   "metadata": {},
   "source": [
    "# Usage"
   ]
  },
  {
   "cell_type": "markdown",
   "metadata": {},
   "source": [
    "The following pages go through the usual workflow when using {mod}`tensorwaves`. The output in each of these steps is stored, so that they can be run separately. This page shows some of the highlights of the complete workflow."
   ]
  },
  {
   "cell_type": "markdown",
   "metadata": {},
   "source": [
    "```{toctree}\n",
    "---\n",
    "maxdepth: 2\n",
    "---\n",
    "usage/1_create_model\n",
    "usage/2_generate_data\n",
    "usage/3_perform_fit\n",
    "```"
   ]
  },
  {
   "cell_type": "markdown",
   "metadata": {},
   "source": [
    "## Create an amplitude model"
   ]
  },
  {
   "cell_type": "markdown",
   "metadata": {},
   "source": [
    ":::{seealso}\n",
    "\n",
    "{doc}`usage/1_create_model`\n",
    "\n",
    ":::"
   ]
  },
  {
   "cell_type": "code",
   "execution_count": null,
   "metadata": {
    "tags": [
     "hide-cell"
    ]
   },
   "outputs": [],
   "source": [
    "import expertsystem as es\n",
    "import graphviz\n",
    "import matplotlib.pyplot as plt\n",
    "import pandas as pd\n",
    "from expertsystem.amplitude.dynamics import set_resonance_dynamics\n",
    "from expertsystem.amplitude.dynamics.builder import (\n",
    "    create_relativistic_breit_wigner_with_ff,\n",
    ")\n",
    "from tensorwaves.data.generate import generate_data, generate_phsp\n",
    "from tensorwaves.estimator import SympyUnbinnedNLL\n",
    "from tensorwaves.optimizer.callbacks import CSVSummary\n",
    "from tensorwaves.optimizer.minuit import Minuit2\n",
    "from tensorwaves.physics.amplitude import Intensity, SympyModel\n",
    "from tensorwaves.physics.helicity_formalism.kinematics import (\n",
    "    HelicityKinematics,\n",
    "    ParticleReactionKinematicsInfo,\n",
    "    SubSystem,\n",
    ")"
   ]
  },
  {
   "cell_type": "code",
   "execution_count": null,
   "metadata": {},
   "outputs": [],
   "source": [
    "result = es.generate_transitions(\n",
    "    initial_state=(\"J/psi(1S)\", [-1, +1]),\n",
    "    final_state=[\"gamma\", \"pi0\", \"pi0\"],\n",
    "    allowed_intermediate_particles=[\"f(0)\"],\n",
    "    allowed_interaction_types=[\"strong\", \"em\"],\n",
    "    formalism_type=\"canonical-helicity\",\n",
    ")\n",
    "graphs = result.collapse_graphs()\n",
    "dot = es.io.convert_to_dot(graphs)\n",
    "graphviz.Source(dot)"
   ]
  },
  {
   "cell_type": "code",
   "execution_count": null,
   "metadata": {},
   "outputs": [],
   "source": [
    "model = es.generate_amplitudes(result)\n",
    "model.expression.top"
   ]
  },
  {
   "cell_type": "code",
   "execution_count": null,
   "metadata": {},
   "outputs": [],
   "source": [
    "for name in result.get_intermediate_particles().names:\n",
    "    set_resonance_dynamics(\n",
    "        model, name, create_relativistic_breit_wigner_with_ff\n",
    "    )"
   ]
  },
  {
   "cell_type": "code",
   "execution_count": null,
   "metadata": {
    "tags": [
     "hide-output"
    ]
   },
   "outputs": [],
   "source": [
    "display(*model.expression.dynamics)"
   ]
  },
  {
   "cell_type": "code",
   "execution_count": null,
   "metadata": {
    "tags": [
     "hide-output"
    ]
   },
   "outputs": [],
   "source": [
    "display(*sorted(model.parameters, key=lambda s: s.name))"
   ]
  },
  {
   "cell_type": "code",
   "execution_count": null,
   "metadata": {},
   "outputs": [],
   "source": [
    "list(model.expression.dynamics.values())[1]"
   ]
  },
  {
   "cell_type": "markdown",
   "metadata": {},
   "source": [
    "## Generate toy MC sample"
   ]
  },
  {
   "cell_type": "markdown",
   "metadata": {},
   "source": [
    ":::{seealso}\n",
    "\n",
    "{doc}`usage/2_generate_data`\n",
    "\n",
    ":::"
   ]
  },
  {
   "cell_type": "code",
   "execution_count": null,
   "metadata": {},
   "outputs": [],
   "source": [
    "sympy_model = SympyModel(\n",
    "    expression=model.expression.full_expression,\n",
    "    parameters={k: v.value for k, v in model.parameters.items()},\n",
    "    variables={},\n",
    ")\n",
    "intensity = Intensity(sympy_model)"
   ]
  },
  {
   "cell_type": "code",
   "execution_count": null,
   "metadata": {},
   "outputs": [],
   "source": [
    "for state_id, particle in model.kinematics.final_state.items():\n",
    "    print(f\"ID {state_id}:\", particle.name)"
   ]
  },
  {
   "cell_type": "code",
   "execution_count": null,
   "metadata": {},
   "outputs": [],
   "source": [
    "kin = HelicityKinematics(\n",
    "    ParticleReactionKinematicsInfo(\n",
    "        initial_state_names=[\n",
    "            x.name for x in model.kinematics.initial_state.values()\n",
    "        ],\n",
    "        final_state_names=[\n",
    "            x.name for x in model.kinematics.final_state.values()\n",
    "        ],\n",
    "        particles=model.particles,\n",
    "        fs_id_event_pos_mapping=dict(\n",
    "            {k: i for i, k in enumerate(model.kinematics.final_state.keys())}\n",
    "        ),\n",
    "    )\n",
    ")\n",
    "kin.register_subsystem(SubSystem([[3, 4], [2]], [], []))\n",
    "kin.register_subsystem(SubSystem([[3], [4]], [2], []))\n",
    "kin.register_invariant_mass([2, 4]);"
   ]
  },
  {
   "cell_type": "code",
   "execution_count": null,
   "metadata": {},
   "outputs": [],
   "source": [
    "phsp_sample = generate_phsp(300_000, kin)\n",
    "data_sample = generate_data(30_000, kin, intensity)"
   ]
  },
  {
   "cell_type": "code",
   "execution_count": null,
   "metadata": {},
   "outputs": [],
   "source": [
    "phsp_set = kin.convert(phsp_sample)\n",
    "data_set = kin.convert(data_sample)"
   ]
  },
  {
   "cell_type": "code",
   "execution_count": null,
   "metadata": {
    "jupyter": {
     "source_hidden": true
    },
    "tags": [
     "hide-cell"
    ]
   },
   "outputs": [],
   "source": [
    "import numpy as np\n",
    "from matplotlib import cm\n",
    "\n",
    "intermediate_states = sorted(\n",
    "    (\n",
    "        p\n",
    "        for p in model.particles\n",
    "        if p not in model.kinematics.final_state.values()\n",
    "        and p not in model.kinematics.initial_state.values()\n",
    "    ),\n",
    "    key=lambda p: p.mass,\n",
    ")\n",
    "\n",
    "evenly_spaced_interval = np.linspace(0, 1, len(intermediate_states))\n",
    "colors = [cm.rainbow(x) for x in evenly_spaced_interval]\n",
    "\n",
    "\n",
    "def indicate_masses():\n",
    "    plt.xlabel(\"$m$ [GeV]\")\n",
    "    for i, p in enumerate(intermediate_states):\n",
    "        plt.axvline(\n",
    "            x=p.mass, linestyle=\"dotted\", label=p.name, color=colors[i]\n",
    "        )"
   ]
  },
  {
   "cell_type": "code",
   "execution_count": null,
   "metadata": {},
   "outputs": [],
   "source": [
    "data_frame = pd.DataFrame(data_set)\n",
    "data_frame[\"m_3+4\"].hist(bins=100, alpha=0.5, density=True)\n",
    "indicate_masses()\n",
    "plt.legend();"
   ]
  },
  {
   "cell_type": "markdown",
   "metadata": {},
   "source": [
    "# Optimize the amplitude model"
   ]
  },
  {
   "cell_type": "markdown",
   "metadata": {},
   "source": [
    ":::{seealso}\n",
    "\n",
    "{doc}`usage/3_perform_fit`\n",
    "\n",
    ":::"
   ]
  },
  {
   "cell_type": "code",
   "execution_count": null,
   "metadata": {},
   "outputs": [],
   "source": [
    "estimator = SympyUnbinnedNLL(sympy_model, data_set, phsp_set, backend=\"jax\")"
   ]
  },
  {
   "cell_type": "code",
   "execution_count": null,
   "metadata": {
    "jupyter": {
     "source_hidden": true
    },
    "tags": [
     "hide-cell"
    ]
   },
   "outputs": [],
   "source": [
    "import matplotlib.pyplot as plt\n",
    "import numpy as np\n",
    "\n",
    "\n",
    "def compare_model(\n",
    "    variable_name,\n",
    "    data_set,\n",
    "    phsp_set,\n",
    "    intensity_model,\n",
    "    bins=150,\n",
    "):\n",
    "    data = data_set[variable_name]\n",
    "    phsp = phsp_set[variable_name]\n",
    "    intensities = intensity_model(phsp_set)\n",
    "    plt.hist(data, bins=bins, alpha=0.5, label=\"data\", density=True)\n",
    "    plt.hist(\n",
    "        phsp,\n",
    "        weights=intensities,\n",
    "        bins=bins,\n",
    "        histtype=\"step\",\n",
    "        color=\"red\",\n",
    "        label=\"initial fit model\",\n",
    "        density=True,\n",
    "    )\n",
    "    indicate_masses()\n",
    "    plt.legend()"
   ]
  },
  {
   "cell_type": "code",
   "execution_count": null,
   "metadata": {},
   "outputs": [],
   "source": [
    "initial_parameters = {\n",
    "    \"C[J/\\\\psi(1S) \\\\to f_{0}(1500)_{0} \\\\gamma_{+1};f_{0}(1500) \\\\to \\\\pi^{0}_{0} \\\\pi^{0}_{0}]\": 1.0\n",
    "    + 0.0j,\n",
    "    \"m_f(0)(500)\": 0.6,\n",
    "    \"Gamma_f(0)(500)\": 0.3,\n",
    "    \"Gamma_f(0)(980)\": 0.2,\n",
    "    \"m_f(0)(1370)\": 1.3,\n",
    "    \"m_f(0)(1710)\": 1.75,\n",
    "    \"Gamma_f(0)(1710)\": 0.2,\n",
    "}\n",
    "intensity.update_parameters(initial_parameters)\n",
    "compare_model(\"m_3+4\", data_set, phsp_set, intensity)\n",
    "print(\"Number of free parameters:\", len(initial_parameters))"
   ]
  },
  {
   "cell_type": "code",
   "execution_count": null,
   "metadata": {},
   "outputs": [],
   "source": [
    "minuit2 = Minuit2(callback=CSVSummary(\"traceback.csv\", step_size=2))\n",
    "result = minuit2.optimize(estimator, initial_parameters)\n",
    "result"
   ]
  },
  {
   "cell_type": "code",
   "execution_count": null,
   "metadata": {},
   "outputs": [],
   "source": [
    "intensity.update_parameters(result[\"parameter_values\"])\n",
    "compare_model(\"m_3+4\", data_set, phsp_set, intensity)"
   ]
  },
  {
   "cell_type": "code",
   "execution_count": null,
   "metadata": {},
   "outputs": [],
   "source": [
    "fit_traceback = pd.read_csv(\"traceback.csv\")\n",
    "fig, (ax1, ax2) = plt.subplots(\n",
    "    2, figsize=(7, 9), sharex=True, gridspec_kw={\"height_ratios\": [1, 2]}\n",
    ")\n",
    "fit_traceback.plot(\"function_call\", \"estimator_value\", ax=ax1)\n",
    "fit_traceback.plot(\"function_call\", list(initial_parameters), ax=ax2)\n",
    "fig.tight_layout()\n",
    "ax2.set_xlabel(\"function call\");"
   ]
  }
 ],
 "metadata": {
  "kernelspec": {
   "display_name": "Python 3",
   "language": "python",
   "name": "python3"
  },
  "language_info": {
   "codemirror_mode": {
    "name": "ipython",
    "version": 3
   },
   "file_extension": ".py",
   "mimetype": "text/x-python",
   "name": "python",
   "nbconvert_exporter": "python",
   "pygments_lexer": "ipython3",
   "version": "3.8.5"
  }
 },
 "nbformat": 4,
 "nbformat_minor": 4
}
