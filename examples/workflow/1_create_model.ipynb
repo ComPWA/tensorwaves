{
 "cells": [
  {
   "cell_type": "markdown",
   "metadata": {},
   "source": [
    "# Step 1: Create an amplitude model"
   ]
  },
  {
   "cell_type": "raw",
   "metadata": {
    "raw_mimetype": "text/restructuredtext"
   },
   "source": [
    "`tensorwaves` requires you to first formulate an amplitude model that you want to fit to your data set. The `expertsystem` helps you to construct such a model.\n",
    "\n",
    "This notebook briefly illustrates how to create such an amplitude model with the `expertsystem` and how to write it to a recipe file that can be understood by `tensorwaves`. We won't go into details here, because the `expertsystem` already provides :doc:`its own guides <expertsystem:usage>`."
   ]
  },
  {
   "cell_type": "raw",
   "metadata": {
    "raw_mimetype": "text/restructuredtext"
   },
   "source": [
    "We first define the boundary conditions of our physics problem, that is, initial state, final state, formalism type, and the intermediate states that we're interested in. All this is handled through the `~expertsystem.reaction.StateTransitionManager` (STM). In this example, we chose to use the helicity formalism, but you can also use :code:`formalism_type=\"canonical-helicity\"`. As you can see, we analyze the decay :math:`J/\\psi \\to \\pi^0\\pi^0\\gamma` here."
   ]
  },
  {
   "cell_type": "code",
   "execution_count": null,
   "metadata": {},
   "outputs": [],
   "source": [
    "from expertsystem.reaction import InteractionTypes, StateTransitionManager\n",
    "\n",
    "stm = StateTransitionManager(\n",
    "    initial_state=[(\"J/psi(1S)\", [-1, +1])],\n",
    "    final_state=[\"gamma\", \"pi0\", \"pi0\"],\n",
    "    allowed_intermediate_particles=[\"f(0)\"],\n",
    "    formalism_type=\"helicity\",\n",
    ")\n",
    "stm.set_allowed_interaction_types([InteractionTypes.Strong])"
   ]
  },
  {
   "cell_type": "raw",
   "metadata": {
    "raw_mimetype": "text/restructuredtext"
   },
   "source": [
    ".. admonition:: Simplified model: :math:`J/\\psi \\to f_0\\gamma`\n",
    "    :class: dropdown\n",
    "\n",
    "    As :doc:`3_perform_fit` serves to illustrate usage only, we make the amplitude model here a bit simpler by not allowing :math:`\\omega` resonances (which are narrow and therefore hard to fit). For this reason, we can also limit the `~expertsystem.reaction.solving.InteractionTypes` to `~expertsystem.reaction.solving.InteractionTypes.Strong`."
   ]
  },
  {
   "cell_type": "raw",
   "metadata": {
    "raw_mimetype": "text/restructuredtext"
   },
   "source": [
    "Next, we let the `STM <expertsystem.reaction.StateTransitionManager>` generate topologies (represented by graphs) for the transition from initial to final state. We're not really interested in warnings (see :doc:`the ExpertSystem <expertsystem:usage>` for more details), so we suppress them using `logging`."
   ]
  },
  {
   "cell_type": "code",
   "execution_count": null,
   "metadata": {},
   "outputs": [],
   "source": [
    "import logging\n",
    "\n",
    "logger = logging.getLogger()\n",
    "logger.setLevel(logging.ERROR)\n",
    "graph_interaction_settings_groups = stm.prepare_graphs()"
   ]
  },
  {
   "cell_type": "raw",
   "metadata": {
    "raw_mimetype": "text/restructuredtext"
   },
   "source": [
    "Now we're ready to let the STM compute the allowed intermediate states. In this example, we just use the standard interaction type settings that `~expertsystem.reaction.StateTransitionManager` generated."
   ]
  },
  {
   "cell_type": "code",
   "execution_count": null,
   "metadata": {},
   "outputs": [],
   "source": [
    "result = stm.find_solutions(graph_interaction_settings_groups)"
   ]
  },
  {
   "cell_type": "raw",
   "metadata": {
    "raw_mimetype": "text/restructuredtext"
   },
   "source": [
    "Have a look at :doc:`expertsystem:usage/visualization` if you want to visualize the decay topologies that the `expertsystem` has found."
   ]
  },
  {
   "cell_type": "raw",
   "metadata": {
    "raw_mimetype": "text/restructuredtext"
   },
   "source": [
    "Finally, we're ready to create an `~expertsystem.amplitude.model.AmplitudeModel`. This can be done with the `~expertsystem.amplitude.generate_amplitude_model` method."
   ]
  },
  {
   "cell_type": "code",
   "execution_count": null,
   "metadata": {},
   "outputs": [],
   "source": [
    "from expertsystem.amplitude import generate_amplitude_model\n",
    "\n",
    "model = generate_amplitude_model(result)"
   ]
  },
  {
   "cell_type": "raw",
   "metadata": {
    "raw_mimetype": "text/restructuredtext"
   },
   "source": [
    "Finally, we can write the `~expertsystem.amplitude.model.AmplitudeModel`, using the `~expertsystem.io.write` function:"
   ]
  },
  {
   "cell_type": "code",
   "execution_count": null,
   "metadata": {},
   "outputs": [],
   "source": [
    "from expertsystem import io\n",
    "\n",
    "io.write(model, \"amplitude_model_helicity.yml\")"
   ]
  },
  {
   "cell_type": "raw",
   "metadata": {
    "raw_mimetype": "text/restructuredtext"
   },
   "source": [
    "Cool, that's it! We now have a recipe for an amplitude model with which to :doc:`generate data </usage/2_generate_data>` and :doc:`perform a fit </usage/3_perform_fit>`! In the :doc:`next steps </usage/2_generate_data>`, we will use use this `~expertsystem.amplitude.model.AmplitudeModel` as a fit model template for `tensorwaves`."
   ]
  }
 ],
 "metadata": {
  "celltoolbar": "Raw Cell Format",
  "kernelspec": {
   "display_name": "Python 3",
   "language": "python",
   "name": "python3"
  },
  "language_info": {
   "codemirror_mode": {
    "name": "ipython",
    "version": 3
   },
   "file_extension": ".py",
   "mimetype": "text/x-python",
   "name": "python",
   "nbconvert_exporter": "python",
   "pygments_lexer": "ipython3",
   "version": "3.8.5"
  }
 },
 "nbformat": 4,
 "nbformat_minor": 4
}
