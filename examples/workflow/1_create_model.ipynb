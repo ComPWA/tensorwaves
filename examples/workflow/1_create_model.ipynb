{
 "cells": [
  {
   "cell_type": "raw",
   "metadata": {
    "raw_mimetype": "text/restructuredtext"
   },
   "source": [
    "Download this notebook :download:`here <1_create_model.ipynb>`."
   ]
  },
  {
   "cell_type": "markdown",
   "metadata": {},
   "source": [
    "# Step 1: Create an amplitude model"
   ]
  },
  {
   "cell_type": "raw",
   "metadata": {
    "raw_mimetype": "text/restructuredtext"
   },
   "source": [
    "`tensorwaves` requires you to first formulate an amplitude model that you want to fit to your data set. The `expertsystem` helps you to construct such a model.\n",
    "\n",
    "This notebooks briefly illustrates how to create such an amplitude model with the `expertsystem` and how to write it to a recipe file that can be understood by `tensorwaves`. We won't go into details here, because the `expertsystem` already provides :doc:`its own guides <expertsystem:usage>`."
   ]
  },
  {
   "cell_type": "raw",
   "metadata": {
    "raw_mimetype": "text/restructuredtext"
   },
   "source": [
    "We first define the boundary conditions of our physics problem, that is, initial state, final state, formalism type, and the intermediate states that we're interested in. All this is handled through the :class:`~expertsystem.ui.StateTransitionManager` (STM). In this example, we chose to use the helicity formalism, but you can also use :code:`formalism_type=\"canonical-helicity\"`."
   ]
  },
  {
   "cell_type": "code",
   "execution_count": null,
   "metadata": {},
   "outputs": [],
   "source": [
    "from expertsystem.ui import StateTransitionManager\n",
    "\n",
    "stm = StateTransitionManager(\n",
    "    initial_state=[(\"J/psi\")],\n",
    "    final_state=[(\"gamma\"), (\"pi0\"), (\"pi0\")],\n",
    "    allowed_intermediate_particles=[\"f0\", \"omega\"],\n",
    "    formalism_type=\"helicity\",\n",
    "    topology_building=\"isobar\",\n",
    ")"
   ]
  },
  {
   "cell_type": "raw",
   "metadata": {
    "raw_mimetype": "text/restructuredtext"
   },
   "source": [
    ".. note::\n",
    "    As :doc:`3_perform_fit` serves to illustrate usage only, we make the amplitude model here a bit simpler by not allowing :math:`\\omega` states (which are narrow and therefore hard to fit)."
   ]
  },
  {
   "cell_type": "code",
   "execution_count": null,
   "metadata": {},
   "outputs": [],
   "source": [
    "stm.allowed_intermediate_particles = [\"f0\"]"
   ]
  },
  {
   "cell_type": "markdown",
   "metadata": {},
   "source": [
    "Next, we let the STM generate topologies (represented by graphs) for the transition from initial to final state."
   ]
  },
  {
   "cell_type": "code",
   "execution_count": null,
   "metadata": {},
   "outputs": [],
   "source": [
    "graph_interaction_settings_groups = stm.prepare_graphs()"
   ]
  },
  {
   "cell_type": "raw",
   "metadata": {
    "raw_mimetype": "text/restructuredtext"
   },
   "source": [
    "Now we're ready to let the STM compute the allowed intermediate states! In this example, we just use the standard interaction types that the `expertsystem` uses. We're also not too interested in warnings here, so we lower the logging level."
   ]
  },
  {
   "cell_type": "code",
   "execution_count": null,
   "metadata": {},
   "outputs": [],
   "source": [
    "import logging\n",
    "\n",
    "logger = logging.getLogger()\n",
    "logger.setLevel(logging.ERROR)\n",
    "\n",
    "solutions, violated_rules = stm.find_solutions(graph_interaction_settings_groups)"
   ]
  },
  {
   "cell_type": "raw",
   "metadata": {
    "raw_mimetype": "text/markdown"
   },
   "source": [
    "That's all! We now know which possible transitions there are going from initial to final state:"
   ]
  },
  {
   "cell_type": "code",
   "execution_count": null,
   "metadata": {},
   "outputs": [],
   "source": [
    "from expertsystem.topology.graph import get_intermediate_state_edges\n",
    "\n",
    "\n",
    "def print_intermediate_states(solutions):\n",
    "    print(\"intermediate states:\")\n",
    "    intermediate_states = set()\n",
    "    for g in solutions:\n",
    "        edge_id = get_intermediate_state_edges(g)[0]\n",
    "        intermediate_states.add(g.edge_props[edge_id][\"Name\"])\n",
    "    print(intermediate_states)\n",
    "\n",
    "\n",
    "print(\"found\", len(solutions), \"solutions!\")\n",
    "print_intermediate_states(solutions)"
   ]
  },
  {
   "cell_type": "raw",
   "metadata": {
    "raw_mimetype": "text/restructuredtext"
   },
   "source": [
    "This is the part where `tensorwaves` comes in: we want to convert the possible transitions in terms of an amplitude model. This can be done with the `~expertsystem.ui.StateTransitionManager.write_amplitude_model` method recipe file, which writes the amplitude model to a recipe file. YAML is the preferred file format for `tensorwaves`."
   ]
  },
  {
   "cell_type": "code",
   "execution_count": null,
   "metadata": {},
   "outputs": [],
   "source": [
    "stm.write_amplitude_model(solutions, \"amplitude_model_helicity.yml\")"
   ]
  },
  {
   "cell_type": "raw",
   "metadata": {
    "raw_mimetype": "text/restructuredtext"
   },
   "source": [
    "Cool, that's it! Now we have a recipe for an amplitude model with which to :doc:`generate data <2_generate_data>` and perform a fit!"
   ]
  }
 ],
 "metadata": {
  "celltoolbar": "Raw Cell Format",
  "kernelspec": {
   "display_name": "Python 3",
   "language": "python",
   "name": "python3"
  },
  "language_info": {
   "codemirror_mode": {
    "name": "ipython",
    "version": 3
   },
   "file_extension": ".py",
   "mimetype": "text/x-python",
   "name": "python",
   "nbconvert_exporter": "python",
   "pygments_lexer": "ipython3",
   "version": "3.7.8"
  }
 },
 "nbformat": 4,
 "nbformat_minor": 2
}
