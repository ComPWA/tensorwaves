{
 "cells": [
  {
   "cell_type": "raw",
   "metadata": {
    "raw_mimetype": "text/restructuredtext"
   },
   "source": [
    "Download this notebook :download:`here <2_generate_data.ipynb>`."
   ]
  },
  {
   "cell_type": "markdown",
   "metadata": {},
   "source": [
    "# Step 2: Generate data samples"
   ]
  },
  {
   "cell_type": "raw",
   "metadata": {
    "raw_mimetype": "text/restructuredtext"
   },
   "source": [
    "In this section, we will use the amplitude model that we created with the expert system in :doc:`the previous step <1_create_model>` to generate a data sample via hit & miss Monte Carlo. We do this with the `tensorwaves.data.generate` module.\n",
    "\n",
    "First, we load a YAML recipe file that was created in the previous step:"
   ]
  },
  {
   "cell_type": "code",
   "execution_count": null,
   "metadata": {},
   "outputs": [],
   "source": [
    "import yaml\n",
    "\n",
    "with open(\"amplitude_model_helicity.yml\") as input_file:\n",
    "    recipe = yaml.load(input_file.read(), Loader=yaml.SafeLoader)"
   ]
  },
  {
   "cell_type": "markdown",
   "metadata": {},
   "source": [
    "## 2.1 Define kinematics of the particle reaction"
   ]
  },
  {
   "cell_type": "raw",
   "metadata": {
    "raw_mimetype": "text/restructuredtext"
   },
   "source": [
    "A recipe file defines the kinematics, the particles involved in the reaction,\n",
    "the dynamics used for the model on which to perform the eventual optimization,\n",
    "etc. In :doc:`Step 1 <1_create_model>`, we decided to use the helicity\n",
    "formalism to analyse the problem, so here we need to use the\n",
    "`~tensorwaves.physics.helicity_formalism.kinematics.HelicityKinematics` class."
   ]
  },
  {
   "cell_type": "code",
   "execution_count": null,
   "metadata": {},
   "outputs": [],
   "source": [
    "from tensorwaves.physics.helicity_formalism.kinematics import HelicityKinematics\n",
    "from tensorwaves.physics.particle import extract_particles\n",
    "\n",
    "kin = HelicityKinematics.from_recipe(recipe)\n",
    "particles = extract_particles(recipe)\n",
    "print(\"Initial state mass:\", kin.reaction_kinematics_info.initial_state_masses)\n",
    "print(\"Final state masses:\", kin.reaction_kinematics_info.final_state_masses)\n",
    "print(\"Involved particles:\", list(particles))"
   ]
  },
  {
   "cell_type": "raw",
   "metadata": {
    "raw_mimetype": "text/restructuredtext"
   },
   "source": [
    "A `.Kinematics` object defines the kinematics of the particle reaction we are\n",
    "studying. From the final state masses listed here, we can see we are dealing\n",
    "with the reaction :math:`J/\\psi \\to \\gamma\\pi^0\\pi^0`."
   ]
  },
  {
   "cell_type": "markdown",
   "metadata": {},
   "source": [
    "## 2.2 Generate phase space sample"
   ]
  },
  {
   "cell_type": "raw",
   "metadata": {
    "raw_mimetype": "text/restructuredtext"
   },
   "source": [
    "Kinematics define the constraints of the phase-space. As such, we have enough\n",
    "information to generate a **phase-space sample** for this particle reaction.\n",
    "We do this with the `.generate_phsp` function. By default, this function uses\n",
    "`.TFPhaseSpaceGenerator` as a, well... phase-space generator (using tensorflow\n",
    "in the back-end) and generates random numbers with\n",
    "`.TFUniformRealNumberGenerator`. You can specify this with the arguments of\n",
    "`.generate_phsp` function."
   ]
  },
  {
   "cell_type": "code",
   "execution_count": null,
   "metadata": {},
   "outputs": [],
   "source": [
    "from tensorwaves.data.generate import generate_phsp\n",
    "\n",
    "phsp_sample = generate_phsp(300000, kin)\n",
    "phsp_sample.shape"
   ]
  },
  {
   "cell_type": "markdown",
   "metadata": {
    "raw_mimetype": "text/restructuredtext"
   },
   "source": [
    "As you can see, the phase-space sample is a three-dimensional array: 300.000\n",
    "events of four-momentum tuples for three particles."
   ]
  },
  {
   "cell_type": "markdown",
   "metadata": {},
   "source": [
    "## 2.3 Generate intensity-based sample"
   ]
  },
  {
   "cell_type": "raw",
   "metadata": {
    "raw_mimetype": "text/restructuredtext"
   },
   "source": [
    "'Data samples' are more complicated than phase space samples in that they\n",
    "represent the intensity profile resulting from a reaction. You therefore need\n",
    "an `.IntensityTF` object (or, more generally, a `~.interfaces.Function`\n",
    "instance) and a phase space over which to generate that intensity\n",
    "distribution. We call such a data sample an **intensity-based sample**.\n",
    "\n",
    "An intensity-based sample is generated with the function `.generate_data`. Its\n",
    "usage is similar to `.generate_phsp`, but now you have to give an\n",
    "`.IntensityTF` in addition to the `.Kinematics` object. An `.IntensityTF`\n",
    "object can be created with the `.IntensityTF` class:"
   ]
  },
  {
   "cell_type": "code",
   "execution_count": null,
   "metadata": {},
   "outputs": [],
   "source": [
    "from tensorwaves.physics.helicity_formalism.amplitude import IntensityBuilder\n",
    "\n",
    "builder = IntensityBuilder(particles, kin, phsp_sample)\n",
    "intensity = builder.create_intensity(recipe)"
   ]
  },
  {
   "cell_type": "markdown",
   "metadata": {
    "raw_mimetype": "text/restructuredtext"
   },
   "source": [
    "We first decrease the debugging level a bit to avoid some redundant warnings."
   ]
  },
  {
   "cell_type": "code",
   "execution_count": null,
   "metadata": {},
   "outputs": [],
   "source": [
    "import logging\n",
    "\n",
    "logging.disable(logging.WARNING)\n",
    "logging.getLogger().setLevel(logging.INFO)"
   ]
  },
  {
   "cell_type": "markdown",
   "metadata": {},
   "source": [
    "That's it, now we have enough info to create an intensity-based data sample.\n",
    "Notice how the structure is the sample as the phase-space sample we saw\n",
    "before:"
   ]
  },
  {
   "cell_type": "code",
   "execution_count": null,
   "metadata": {},
   "outputs": [],
   "source": [
    "from tensorwaves.data.generate import generate_data\n",
    "\n",
    "data_sample = generate_data(30000, kin, intensity)\n",
    "data_sample.shape"
   ]
  },
  {
   "cell_type": "markdown",
   "metadata": {},
   "source": [
    "## 2.4 Visualize kinematic variables"
   ]
  },
  {
   "cell_type": "raw",
   "metadata": {
    "raw_mimetype": "text/restructuredtext"
   },
   "source": [
    "We now have a phase space sample and an intensity-based sample. Their data\n",
    "structure isn't the most informative though: it's just a collection of\n",
    "four-momentum tuples. However, we can use the `.Kinematics` class to convert\n",
    "those four-momentum tuples to a data set of kinematic variables.\n",
    "\n",
    "Now we can use the :meth:`.Kinematics.convert` method to convert the phase\n",
    "space and data samples of four-momentum tuples to kinematic variables."
   ]
  },
  {
   "cell_type": "code",
   "execution_count": null,
   "metadata": {},
   "outputs": [],
   "source": [
    "phsp_set = kin.convert(phsp_sample)\n",
    "data_set = kin.convert(data_sample)\n",
    "list(data_set.keys())"
   ]
  },
  {
   "cell_type": "raw",
   "metadata": {
    "raw_mimetype": "text/restructuredtext"
   },
   "source": [
    "The data set is just a `dict` of kinematic variables (keys are the names,\n",
    "values is a list of computed values for each event). The numbers you see here\n",
    "are final state IDs as defined in the YAML recipe file.\n",
    "\n",
    "The format of this data set `dict` allows us to easily convert it to a\n",
    "`pandas.DataFrame` and plot its content in the form of a histogram:"
   ]
  },
  {
   "cell_type": "code",
   "execution_count": null,
   "metadata": {},
   "outputs": [],
   "source": [
    "import pandas as pd\n",
    "\n",
    "data_frame = pd.DataFrame(data_set)\n",
    "phsp_frame = pd.DataFrame(phsp_set)\n",
    "data_frame"
   ]
  },
  {
   "cell_type": "code",
   "execution_count": null,
   "metadata": {},
   "outputs": [],
   "source": [
    "phsp_frame[\"mSq_3_4\"].hist(bins=100)"
   ]
  },
  {
   "cell_type": "code",
   "execution_count": null,
   "metadata": {},
   "outputs": [],
   "source": [
    "data_frame[\"mSq_3_4\"].hist(bins=100, alpha=0.5, density=True)"
   ]
  },
  {
   "cell_type": "markdown",
   "metadata": {},
   "source": [
    "## 2.5 Export data sets"
   ]
  },
  {
   "cell_type": "raw",
   "metadata": {
    "raw_mimetype": "text/restructuredtext"
   },
   "source": [
    "`tensorwaves` currently has no export functionality for data samples. However, as we work with `numpy.ndarray`, it's easy to just `'pickle' <https://docs.python.org/3/library/pickle.html>`_ these data samples with `numpy.save`:"
   ]
  },
  {
   "cell_type": "code",
   "execution_count": null,
   "metadata": {},
   "outputs": [],
   "source": [
    "import numpy as np\n",
    "\n",
    "np.save(\"data_sample\", data_sample)\n",
    "np.save(\"phsp_sample\", phsp_sample)"
   ]
  },
  {
   "cell_type": "raw",
   "metadata": {
    "raw_mimetype": "text/restructuredtext"
   },
   "source": [
    "In the :doc:`next step <3_perform_fit>`, we will illustrate how to 'perform a fit' with `tensorwaves` by optimizing the intensity model to these data samples."
   ]
  }
 ],
 "metadata": {
  "celltoolbar": "Raw Cell Format",
  "kernelspec": {
   "display_name": "Python 3",
   "language": "python",
   "name": "python3"
  },
  "language_info": {
   "codemirror_mode": {
    "name": "ipython",
    "version": 3
   },
   "file_extension": ".py",
   "mimetype": "text/x-python",
   "name": "python",
   "nbconvert_exporter": "python",
   "pygments_lexer": "ipython3",
   "version": "3.7.6"
  }
 },
 "nbformat": 4,
 "nbformat_minor": 4
}
