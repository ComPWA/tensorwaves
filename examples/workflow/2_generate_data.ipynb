{
 "cells": [
  {
   "cell_type": "raw",
   "metadata": {
    "raw_mimetype": "text/restructuredtext"
   },
   "source": [
    "Download this notebook :download:`here <2_generate_data.ipynb>`."
   ]
  },
  {
   "cell_type": "markdown",
   "metadata": {},
   "source": [
    "# Step 2: Generate data samples"
   ]
  },
  {
   "cell_type": "raw",
   "metadata": {
    "raw_mimetype": "text/restructuredtext"
   },
   "source": [
    "This notebook shows how to generate data with the `tensorwaves.data.generate` module. First, we load a YAML recipe file:"
   ]
  },
  {
   "cell_type": "code",
   "execution_count": null,
   "metadata": {},
   "outputs": [],
   "source": [
    "import yaml\n",
    "\n",
    "with open(\"../intensity-recipe.yaml\") as input_file:\n",
    "    recipe = yaml.load(input_file.read(), Loader=yaml.SafeLoader)"
   ]
  },
  {
   "cell_type": "markdown",
   "metadata": {},
   "source": [
    "## Define kinematics of the particle reaction"
   ]
  },
  {
   "cell_type": "markdown",
   "metadata": {
    "raw_mimetype": "text/restructuredtext"
   },
   "source": [
    "A recipe file defines the kinematics, the particles involved in the reaction,\n",
    "the dynamics used for the model on which to perform the eventual optimization,\n",
    "etc.:"
   ]
  },
  {
   "cell_type": "code",
   "execution_count": null,
   "metadata": {},
   "outputs": [],
   "source": [
    "from tensorwaves.physics.helicityformalism.kinematics import HelicityKinematics\n",
    "from tensorwaves.physics.particle import extract_particles\n",
    "\n",
    "kin = HelicityKinematics.from_recipe(recipe)\n",
    "part_list = extract_particles(recipe)\n",
    "print(\"Initial state mass:\", kin.reaction_kinematics_info.initial_state_masses)\n",
    "print(\"Final state masses:\", kin.reaction_kinematics_info.final_state_masses)"
   ]
  },
  {
   "cell_type": "raw",
   "metadata": {
    "raw_mimetype": "text/restructuredtext"
   },
   "source": [
    "A `.Kinematics` object defines the kinematics of the particle reaction we are studying. From the final state masses listed here, we can see we are dealing with the reaction :math:`J/\\psi \\to \\gamma\\pi^0\\pi^0` here."
   ]
  },
  {
   "cell_type": "markdown",
   "metadata": {},
   "source": [
    "## Phase space sample"
   ]
  },
  {
   "cell_type": "raw",
   "metadata": {
    "raw_mimetype": "text/restructuredtext"
   },
   "source": [
    "Kinematics define the constraints of the phase-space. As such, we have enough information to generate a phase-space sample for this particle reaction. We do this with the `.generate_phsp` function. By default, this function uses `.TFPhaseSpaceGenerator` as a, well... phase-space generator (using tensorflow in the back-end) and generates random numbers with `.TFUniformRealNumberGenerator`. You can specify this with the arguments of `.generate_phsp` function."
   ]
  },
  {
   "cell_type": "code",
   "execution_count": null,
   "metadata": {},
   "outputs": [],
   "source": [
    "from tensorwaves.data.generate import generate_phsp\n",
    "\n",
    "phsp_sample = generate_phsp(300000, kin)\n",
    "phsp_sample.shape"
   ]
  },
  {
   "cell_type": "markdown",
   "metadata": {
    "raw_mimetype": "text/restructuredtext"
   },
   "source": [
    "As you can see, the phase-space sample is a three-dimensional array: 300.000 events of four-momentum tuples for three particles."
   ]
  },
  {
   "cell_type": "markdown",
   "metadata": {},
   "source": [
    "## Intensity-based sample"
   ]
  },
  {
   "cell_type": "raw",
   "metadata": {
    "raw_mimetype": "text/restructuredtext"
   },
   "source": [
    "Data samples are more complicated than phase space samples in that they represent the intensity profile resulting from a reaction. You therefore need an `.IntensityTF` object (or, more generally, a `~.interfaces.Function`\n",
    "instance) and a phase space over which to generate that intensity distribution. We call such a data sample an **intensity-based sample**.\n",
    "\n",
    "An intensity-based sample is generated with the function `.generate_data`. Its usage is similar to `.generate_phsp`, but now you have to give an `.IntensityTF` in addition to the `.Kinematics` object. An `.IntensityTF` object can be created with the `.IntensityTF` class:"
   ]
  },
  {
   "cell_type": "code",
   "execution_count": null,
   "metadata": {},
   "outputs": [],
   "source": [
    "from tensorwaves.physics.helicityformalism.amplitude import IntensityBuilder\n",
    "\n",
    "builder = IntensityBuilder(part_list, kin, phsp_sample)\n",
    "intensity = builder.create_intensity(recipe)"
   ]
  },
  {
   "cell_type": "markdown",
   "metadata": {
    "raw_mimetype": "text/restructuredtext"
   },
   "source": [
    "We first decrease the debugging level a bit to avoid some redundant warnings."
   ]
  },
  {
   "cell_type": "code",
   "execution_count": null,
   "metadata": {},
   "outputs": [],
   "source": [
    "import logging\n",
    "\n",
    "logging.disable(logging.WARNING)\n",
    "logging.getLogger().setLevel(logging.INFO)"
   ]
  },
  {
   "cell_type": "markdown",
   "metadata": {},
   "source": [
    "That's it, now we have enough info to create an intensity-based data sample. Notice how the structure is the sample as the phase-space sample we saw before:"
   ]
  },
  {
   "cell_type": "code",
   "execution_count": null,
   "metadata": {},
   "outputs": [],
   "source": [
    "from tensorwaves.data.generate import generate_data\n",
    "\n",
    "data_sample = generate_data(30000, kin, intensity)\n",
    "data_sample.shape"
   ]
  },
  {
   "cell_type": "markdown",
   "metadata": {},
   "source": [
    "## Visualize"
   ]
  },
  {
   "cell_type": "raw",
   "metadata": {
    "raw_mimetype": "text/restructuredtext"
   },
   "source": [
    "We now have a phase space sample and an intensity-based sample. Their data structure isn't the most informative though: it's just a collection of four-momentum tuples. However, we can use the `.Kinematics` class to convert those four-momentum tuples to a data set of kinematic variables."
   ]
  },
  {
   "cell_type": "markdown",
   "metadata": {
    "raw_mimetype": "text/restructuredtext"
   },
   "source": [
    "We first decrease the debugging level a bit to avoid some redundant warnings."
   ]
  },
  {
   "cell_type": "code",
   "execution_count": null,
   "metadata": {},
   "outputs": [],
   "source": [
    "import logging\n",
    "\n",
    "logging.disable(logging.WARNING)\n",
    "logging.getLogger().setLevel(logging.INFO)"
   ]
  },
  {
   "cell_type": "raw",
   "metadata": {
    "raw_mimetype": "text/restructuredtext"
   },
   "source": [
    "Now we can use the :meth:`.Kinematics.convert` method to convert the phase space and data samples of four-momentum tuples to kinematic variables."
   ]
  },
  {
   "cell_type": "code",
   "execution_count": null,
   "metadata": {},
   "outputs": [],
   "source": [
    "phsp_set = kin.convert(phsp_sample)\n",
    "data_set = kin.convert(data_sample)\n",
    "list(data_set.keys())"
   ]
  },
  {
   "cell_type": "raw",
   "metadata": {
    "raw_mimetype": "text/restructuredtext"
   },
   "source": [
    "The data set is just a `dict` of kinematic variables (keys are the names, values is a list of computed values for each event). The numbers you see here are final state IDs as defined in the YAML recipe file.\n",
    "\n",
    "The format of this data set `dict` allows us to easily convert it to a `pandas.DataFrame` and plot its content in the form of a histogram:"
   ]
  },
  {
   "cell_type": "code",
   "execution_count": null,
   "metadata": {},
   "outputs": [],
   "source": [
    "import pandas as pd\n",
    "\n",
    "data_frame = pd.DataFrame(data_set)\n",
    "phsp_frame = pd.DataFrame(phsp_set)\n",
    "data_frame"
   ]
  },
  {
   "cell_type": "code",
   "execution_count": null,
   "metadata": {},
   "outputs": [],
   "source": [
    "phsp_frame[\"mSq_3_4\"].hist(bins=100)"
   ]
  },
  {
   "cell_type": "markdown",
   "metadata": {
    "raw_mimetype": "text/restructuredtext"
   },
   "source": [
    "We first decrease the debugging level a bit to avoid some redundant warnings."
   ]
  },
  {
   "cell_type": "code",
   "execution_count": null,
   "metadata": {},
   "outputs": [],
   "source": [
    "data_frame[\"mSq_3_4\"].hist(bins=100, alpha=0.5, density=True)"
   ]
  }
 ],
 "metadata": {
  "celltoolbar": "Raw Cell Format",
  "kernelspec": {
   "display_name": "Python 3",
   "language": "python",
   "name": "python3"
  },
  "language_info": {
   "codemirror_mode": {
    "name": "ipython",
    "version": 3
   },
   "file_extension": ".py",
   "mimetype": "text/x-python",
   "name": "python",
   "nbconvert_exporter": "python",
   "pygments_lexer": "ipython3",
   "version": "3.7.6"
  }
 },
 "nbformat": 4,
 "nbformat_minor": 4
}
